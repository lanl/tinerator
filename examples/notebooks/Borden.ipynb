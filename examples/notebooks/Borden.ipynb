{
 "cells": [
  {
   "cell_type": "markdown",
   "id": "937fe9e2-ec6c-4864-afe8-390b7e4e0b93",
   "metadata": {},
   "source": [
    "# Case Study: Borden\n",
    "\n",
    "The Borden dataset is a simple, low-resource DEM that forms the basis of the\n",
    "Borden Benchmark test case.\n",
    "\n",
    "The test case is based on the original field experiment and hydraulic parameters of\n",
    "[Abdul and Gillham](https://doi.org/10.1016/0022-1694(89)90177-7), and is used by\n",
    "[Kollet et al.](https://doi.org/10.1002/2016WR019191) for integrated hydrologic\n",
    "model intercomparison."
   ]
  },
  {
   "cell_type": "code",
   "execution_count": 1,
   "id": "2b5e4e3d-fd0a-4e46-902d-fd83b74535b4",
   "metadata": {},
   "outputs": [
    {
     "name": "stderr",
     "output_type": "stream",
     "text": [
      "OMP: Info #271: omp_set_nested routine deprecated, please use omp_set_max_active_levels instead.\n"
     ]
    }
   ],
   "source": [
    "import tinerator as tin\n",
    "from tinerator import examples"
   ]
  },
  {
   "cell_type": "markdown",
   "id": "ca0bed81-5917-4769-bc7b-0acdf3ee3da4",
   "metadata": {},
   "source": [
    "## Borden DEMs\n",
    "\n",
    "The DEM is available in both 1 meter and 0.5 meter (50 cm) resolutions:"
   ]
  },
  {
   "cell_type": "code",
   "execution_count": 4,
   "id": "67f7031d-5cdf-47be-b443-342e2118de7f",
   "metadata": {},
   "outputs": [
    {
     "data": {
      "text/html": [
       "<pre style=\"white-space:pre;overflow-x:auto;line-height:normal;font-family:Menlo,'DejaVu Sans Mono',consolas,'Courier New',monospace\"><span style=\"color: #7fbfbf; text-decoration-color: #7fbfbf\">[16:26:53] </span><span style=\"color: #808000; text-decoration-color: #808000; font-style: italic\">Could not parse CRS </span><span style=\"color: #808000; text-decoration-color: #808000; font-style: italic\">\"\"</span><span style=\"color: #808000; text-decoration-color: #808000; font-style: italic\">. Defaulting to </span><span style=\"color: #808000; text-decoration-color: #808000; font-style: italic\">\"EPSG:32601\"</span>                  <a href=\"file:///Users/livingston/dev/lanl/tinerator/tinerator/logging.py\"><span style=\"color: #7f7f7f; text-decoration-color: #7f7f7f\">logging.py</span></a><span style=\"color: #7f7f7f; text-decoration-color: #7f7f7f\">:126</span>\n",
       "</pre>\n"
      ],
      "text/plain": [
       "\u001b[2;36m[16:26:53]\u001b[0m\u001b[2;36m \u001b[0m\u001b[3;33mCould not parse CRS \u001b[0m\u001b[3;33m\"\"\u001b[0m\u001b[3;33m. Defaulting to \u001b[0m\u001b[3;33m\"EPSG:32601\"\u001b[0m                  \u001b]8;id=1631831213.321457-649426;file:///Users/livingston/dev/lanl/tinerator/tinerator/logging.py\u001b\\\u001b[2mlogging.py\u001b[0m\u001b]8;;\u001b\\\u001b[2m:126\u001b[0m\n"
      ]
     },
     "metadata": {},
     "output_type": "display_data"
    },
    {
     "name": "stderr",
     "output_type": "stream",
     "text": [
      "\n",
      "A Priority-Flood (Zhou2016 version)\u001b[39m\n",
      "C Zhou, G., Sun, Z., Fu, S., 2016. An efficient variant of the Priority-Flood algorithm for filling depressions in raster digital elevation models. Computers & Geosciences 90, Part A, 87 – 96. doi:http://dx.doi.org/10.1016/j.cageo.2016.02.021\u001b[39m\n",
      "\n",
      "t Zhou2016 wall-time = 0.000188723 s\u001b[39m\n",
      "\n",
      "A Barnes (2014) Flat Resolution Flat Mask Generation\u001b[39m\n",
      "C Barnes, R., Lehman, C., Mulla, D., 2014a. An efficient assignment of drainage direction over flat surfaces in raster digital elevation models. Computers & Geosciences 62, 128–135. doi:10.1016/j.cageo.2013.01.009\u001b[39m\n",
      "\n",
      "\r",
      "\u001b[2K\r",
      "\u001b[2Kt Succeeded in = 1.0984e-05 s\u001b[39m\n",
      "p Setting up labels matrix...\u001b[39m\n",
      "p Setting up flat resolution mask...\u001b[39m\n",
      "p Searching for flats...\u001b[39m\n",
      "\r",
      "\u001b[2K\r",
      "\u001b[2K[                                                  ] (1% - 0.0s - 1 threads)\r",
      "\u001b[2K[=                                                 ] (2% - 0.0s - 1 threads)\r",
      "\u001b[2K[=                                                 ] (3% - 0.0s - 1 threads)\r",
      "\u001b[2K[==                                                ] (4% - 0.0s - 1 threads)\r",
      "\u001b[2K[==                                                ] (5% - 0.0s - 1 threads)\r",
      "\u001b[2K[===                                               ] (6% - 0.0s - 1 threads)\r",
      "\u001b[2K[===                                               ] (7% - 0.0s - 1 threads)\r",
      "\u001b[2K[====                                              ] (8% - 0.0s - 1 threads)\r",
      "\u001b[2K[====                                              ] (9% - 0.0s - 1 threads)\r",
      "\u001b[2K[=====                                             ] (10% - 0.0s - 1 threads)\r",
      "\u001b[2K[=====                                             ] (11% - 0.0s - 1 threads)\r",
      "\u001b[2K[======                                            ] (12% - 0.0s - 1 threads)\r",
      "\u001b[2K[======                                            ] (13% - 0.0s - 1 threads)\r",
      "\u001b[2K[=======                                           ] (14% - 0.0s - 1 threads)\r",
      "\u001b[2K[=======                                           ] (15% - 0.0s - 1 threads)\r",
      "\u001b[2K[========                                          ] (16% - 0.0s - 1 threads)\r",
      "\u001b[2K[========                                          ] (17% - 0.0s - 1 threads)\r",
      "\u001b[2K[=========                                         ] (18% - 0.0s - 1 threads)\r",
      "\u001b[2K[=========                                         ] (19% - 0.0s - 1 threads)\r",
      "\u001b[2K[==========                                        ] (20% - 0.0s - 1 threads)\r",
      "\u001b[2K[==========                                        ] (21% - 0.0s - 1 threads)\r",
      "\u001b[2K[===========                                       ] (22% - 0.0s - 1 threads)\r",
      "\u001b[2K[===========                                       ] (23% - 0.0s - 1 threads)\r",
      "\u001b[2K[============                                      ] (24% - 0.0s - 1 threads)\r",
      "\u001b[2K[============                                      ] (25% - 0.0s - 1 threads)\r",
      "\u001b[2K[=============                                     ] (26% - 0.0s - 1 threads)\r",
      "\u001b[2K[=============                                     ] (27% - 0.0s - 1 threads)\r",
      "\u001b[2K[==============                                    ] (28% - 0.0s - 1 threads)\r",
      "\u001b[2K[==============                                    ] (29% - 0.0s - 1 threads)\r",
      "\u001b[2K[===============                                   ] (30% - 0.0s - 1 threads)\r",
      "\u001b[2K[===============                                   ] (31% - 0.0s - 1 threads)\r",
      "\u001b[2K[================                                  ] (32% - 0.0s - 1 threads)\r",
      "\u001b[2K[================                                  ] (33% - 0.0s - 1 threads)\r",
      "\u001b[2K[=================                                 ] (34% - 0.0s - 1 threads)\r",
      "\u001b[2K[=================                                 ] (35% - 0.0s - 1 threads)\r",
      "\u001b[2K[==================                                ] (36% - 0.0s - 1 threads)\r",
      "\u001b[2K[==================                                ] (37% - 0.0s - 1 threads)\r",
      "\u001b[2K[===================                               ] (38% - 0.0s - 1 threads)\r",
      "\u001b[2K[===================                               ] (39% - 0.0s - 1 threads)\r",
      "\u001b[2K[====================                              ] (40% - 0.0s - 1 threads)\r",
      "\u001b[2K[====================                              ] (41% - 0.0s - 1 threads)\r",
      "\u001b[2K[=====================                             ] (42% - 0.0s - 1 threads)\r",
      "\u001b[2K[=====================                             ] (43% - 0.0s - 1 threads)\r",
      "\u001b[2K[======================                            ] (44% - 0.0s - 1 threads)\r",
      "\u001b[2K[======================                            ] (45% - 0.0s - 1 threads)\r",
      "\u001b[2K[=======================                           ] (46% - 0.0s - 1 threads)\r",
      "\u001b[2K[=======================                           ] (47% - 0.0s - 1 threads)\r",
      "\u001b[2K[========================                          ] (48% - 0.0s - 1 threads)\r",
      "\u001b[2K[========================                          ] (49% - 0.0s - 1 threads)\r",
      "\u001b[2K[=========================                         ] (50% - 0.0s - 1 threads)\r",
      "\u001b[2K[=========================                         ] (51% - 0.0s - 1 threads)\r",
      "\u001b[2K[==========================                        ] (52% - 0.0s - 1 threads)\r",
      "\u001b[2K[==========================                        ] (53% - 0.0s - 1 threads)\r",
      "\u001b[2K[===========================                       ] (54% - 0.0s - 1 threads)\r",
      "\u001b[2K[===========================                       ] (55% - 0.0s - 1 threads)\r",
      "\u001b[2K[============================                      ] (56% - 0.0s - 1 threads)\r",
      "\u001b[2K[============================                      ] (57% - 0.0s - 1 threads)\r",
      "\u001b[2K[=============================                     ] (58% - 0.0s - 1 threads)\r",
      "\u001b[2K[=============================                     ] (59% - 0.0s - 1 threads)\r",
      "\u001b[2K[==============================                    ] (60% - 0.0s - 1 threads)\r",
      "\u001b[2K[==============================                    ] (61% - 0.0s - 1 threads)\r",
      "\u001b[2K[===============================                   ] (62% - 0.0s - 1 threads)\r",
      "\u001b[2K[===============================                   ] (63% - 0.0s - 1 threads)\r",
      "\u001b[2K[================================                  ] (64% - 0.0s - 1 threads)\r",
      "\u001b[2K[================================                  ] (65% - 0.0s - 1 threads)\r",
      "\u001b[2K[=================================                 ] (66% - 0.0s - 1 threads)\r",
      "\u001b[2K[=================================                 ] (67% - 0.0s - 1 threads)\r",
      "\u001b[2K[==================================                ] (68% - 0.0s - 1 threads)\r",
      "\u001b[2K[==================================                ] (69% - 0.0s - 1 threads)\r",
      "\u001b[2K[===================================               ] (70% - 0.0s - 1 threads)\r",
      "\u001b[2K[===================================               ] (71% - 0.0s - 1 threads)\r",
      "\u001b[2K[====================================              ] (72% - 0.0s - 1 threads)\r",
      "\u001b[2K[====================================              ] (73% - 0.0s - 1 threads)\r",
      "\u001b[2K[=====================================             ] (74% - 0.0s - 1 threads)\r",
      "\u001b[2K[=====================================             ] (75% - 0.0s - 1 threads)\r",
      "\u001b[2K[======================================            ] (76% - 0.0s - 1 threads)\r",
      "\u001b[2K[======================================            ] (77% - 0.0s - 1 threads)\r",
      "\u001b[2K[=======================================           ] (78% - 0.0s - 1 threads)\r",
      "\u001b[2K[=======================================           ] (79% - 0.0s - 1 threads)\r",
      "\u001b[2K[========================================          ] (80% - 0.0s - 1 threads)\r",
      "\u001b[2K[========================================          ] (81% - 0.0s - 1 threads)\r",
      "\u001b[2K[=========================================         ] (82% - 0.0s - 1 threads)\r",
      "\u001b[2K[=========================================         ] (83% - 0.0s - 1 threads)\r",
      "\u001b[2K[==========================================        ] (84% - 0.0s - 1 threads)\r",
      "\u001b[2K[==========================================        ] (85% - 0.0s - 1 threads)\r",
      "\u001b[2K[===========================================       ] (86% - 0.0s - 1 threads)\r",
      "\u001b[2K[===========================================       ] (87% - 0.0s - 1 threads)\r",
      "\u001b[2K[============================================      ] (88% - 0.0s - 1 threads)\r",
      "\u001b[2K[============================================      ] (89% - 0.0s - 1 threads)\r",
      "\u001b[2K[=============================================     ] (90% - 0.0s - 1 threads)\r",
      "\u001b[2K[=============================================     ] (91% - 0.0s - 1 threads)\r",
      "\u001b[2K[==============================================    ] (92% - 0.0s - 1 threads)\r",
      "\u001b[2K[==============================================    ] (93% - 0.0s - 1 threads)\r",
      "\u001b[2K[===============================================   ] (94% - 0.0s - 1 threads)\r",
      "\u001b[2K[===============================================   ] (95% - 0.0s - 1 threads)\r",
      "\u001b[2K[================================================  ] (96% - 0.0s - 1 threads)\r",
      "\u001b[2K[================================================  ] (97% - 0.0s - 1 threads)\r",
      "\u001b[2K[================================================= ] (98% - 0.0s - 1 threads)\r",
      "\u001b[2K[================================================= ] (99% - 0.0s - 1 threads)\r",
      "\u001b[2Kt Succeeded in = 0.00121137 s\u001b[39m\n",
      "m Cells with no flow direction = 61\u001b[39m\n",
      "m Low edge cells               = 4\u001b[39m\n",
      "m High edge cells              = 61\u001b[39m\n",
      "p Labeling flats...\u001b[39m\n",
      "m Unique flats = 5\u001b[39m\n",
      "p Removing flats without outlets from the queue...\u001b[39m\n",
      "  The flat height vector will require approximately 0MB of RAM.\u001b[39m\n",
      "p Creating flat height vector...\u001b[39m\n",
      "p Performing Barnes flat resolution's away gradient...\u001b[39m\n",
      "t Succeeded in = 7.611e-06 s\u001b[39m\n",
      "p Barnes flat resolution: toward and combined gradients...\u001b[39m\n",
      "t Succeeded in = 1.0917e-05 s\u001b[39m\n",
      "t Wall-time = 0.00140931 s\u001b[39m\n",
      "\n",
      "A Barnes (2014) Flat Resolution (DEM modification)...\u001b[39m\n",
      "C Barnes, R., Lehman, C., Mulla, D., 2014a. An efficient assignment of drainage direction over flat surfaces in raster digital elevation models. Computers & Geosciences 62, 128–135. doi:10.1016/j.cageo.2013.01.009\u001b[39m\n",
      "\n",
      "\r",
      "\u001b[2K\r",
      "\u001b[2K[                                                  ] (1% - 0.0s - 1 threads)\r",
      "\u001b[2K[=                                                 ] (2% - 0.0s - 1 threads)\r",
      "\u001b[2K[=                                                 ] (3% - 0.0s - 1 threads)\r",
      "\u001b[2K[==                                                ] (4% - 0.0s - 1 threads)\r",
      "\u001b[2K[==                                                ] (5% - 0.0s - 1 threads)\r",
      "\u001b[2K[===                                               ] (6% - 0.0s - 1 threads)\r",
      "\u001b[2K[===                                               ] (7% - 0.0s - 1 threads)\r",
      "\u001b[2K[====                                              ] (8% - 0.0s - 1 threads)\r",
      "\u001b[2K[====                                              ] (9% - 0.0s - 1 threads)\r",
      "\u001b[2K[=====                                             ] (10% - 0.0s - 1 threads)\r",
      "\u001b[2K[=====                                             ] (11% - 0.0s - 1 threads)\r",
      "\u001b[2K[======                                            ] (12% - 0.0s - 1 threads)\r",
      "\u001b[2K[======                                            ] (13% - 0.0s - 1 threads)\r",
      "\u001b[2K[=======                                           ] (14% - 0.0s - 1 threads)\r",
      "\u001b[2K[=======                                           ] (15% - 0.0s - 1 threads)\r",
      "\u001b[2K[========                                          ] (16% - 0.0s - 1 threads)\r",
      "\u001b[2K[========                                          ] (17% - 0.0s - 1 threads)\r",
      "\u001b[2K[=========                                         ] (18% - 0.0s - 1 threads)\r",
      "\u001b[2K[=========                                         ] (19% - 0.0s - 1 threads)\r",
      "\u001b[2K[==========                                        ] (20% - 0.0s - 1 threads)\r",
      "\u001b[2K[==========                                        ] (21% - 0.0s - 1 threads)\r",
      "\u001b[2K[===========                                       ] (22% - 0.0s - 1 threads)\r",
      "\u001b[2K[===========                                       ] (23% - 0.0s - 1 threads)\r",
      "\u001b[2K[============                                      ] (24% - 0.0s - 1 threads)\r",
      "\u001b[2K[============                                      ] (25% - 0.0s - 1 threads)\r",
      "\u001b[2K[=============                                     ] (26% - 0.0s - 1 threads)\r",
      "\u001b[2K[=============                                     ] (27% - 0.0s - 1 threads)\r",
      "\u001b[2K[==============                                    ] (28% - 0.0s - 1 threads)\r",
      "\u001b[2K[==============                                    ] (29% - 0.0s - 1 threads)\r",
      "\u001b[2K[===============                                   ] (30% - 0.0s - 1 threads)\r",
      "\u001b[2K[===============                                   ] (31% - 0.0s - 1 "
     ]
    },
    {
     "data": {
      "text/html": [
       "<pre style=\"white-space:pre;overflow-x:auto;line-height:normal;font-family:Menlo,'DejaVu Sans Mono',consolas,'Courier New',monospace\"><span style=\"color: #7fbfbf; text-decoration-color: #7fbfbf\">           </span><span style=\"color: #808000; text-decoration-color: #808000; font-style: italic\">Could not parse CRS </span><span style=\"color: #808000; text-decoration-color: #808000; font-style: italic\">\"\"</span><span style=\"color: #808000; text-decoration-color: #808000; font-style: italic\">. Defaulting to </span><span style=\"color: #808000; text-decoration-color: #808000; font-style: italic\">\"EPSG:32601\"</span>                  <a href=\"file:///Users/livingston/dev/lanl/tinerator/tinerator/logging.py\"><span style=\"color: #7f7f7f; text-decoration-color: #7f7f7f\">logging.py</span></a><span style=\"color: #7f7f7f; text-decoration-color: #7f7f7f\">:126</span>\n",
       "</pre>\n"
      ],
      "text/plain": [
       "\u001b[2;36m          \u001b[0m\u001b[2;36m \u001b[0m\u001b[3;33mCould not parse CRS \u001b[0m\u001b[3;33m\"\"\u001b[0m\u001b[3;33m. Defaulting to \u001b[0m\u001b[3;33m\"EPSG:32601\"\u001b[0m                  \u001b]8;id=1631831213.355318-267965;file:///Users/livingston/dev/lanl/tinerator/tinerator/logging.py\u001b\\\u001b[2mlogging.py\u001b[0m\u001b]8;;\u001b\\\u001b[2m:126\u001b[0m\n"
      ]
     },
     "metadata": {},
     "output_type": "display_data"
    },
    {
     "name": "stderr",
     "output_type": "stream",
     "text": [
      "\u001b[2K[==========================================        ] (85% - 0.0s - 1 threads)\u001b[91mW Cells inappropriately raised above surrounding terrain = 0\u001b[39m\n",
      "\u001b[2Kt Succeeded in = 0.00127794 s\u001b[39m\n",
      "\n",
      "A Priority-Flood (Zhou2016 version)\u001b[39m\n",
      "C Zhou, G., Sun, Z., Fu, S., 2016. An efficient variant of the Priority-Flood algorithm for filling depressions in raster digital elevation models. Computers & Geosciences 90, Part A, 87 – 96. doi:http://dx.doi.org/10.1016/j.cageo.2016.02.021\u001b[39m\n",
      "\n",
      "t Zhou2016 wall-time = 0.000434173 s\u001b[39m\n",
      "\n",
      "A Barnes (2014) Flat Resolution Flat Mask Generation\u001b[39m\n",
      "C Barnes, R., Lehman, C., Mulla, D., 2014a. An efficient assignment of drainage direction over flat surfaces in raster digital elevation models. Computers & Geosciences 62, 128–135. doi:10.1016/j.cageo.2013.01.009\u001b[39m\n",
      "\n",
      "\u001b[2Kt Succeeded in = 3.9829e-05 s\u001b[39m\n",
      "p Setting up labels matrix...\u001b[39m\n",
      "p Setting up flat resolution mask...\u001b[39m\n",
      "p Searching for flats...\u001b[39m\n",
      "\u001b[2Kt Succeeded in = 0.00125527 s\u001b[39m================ ] (99% - 0.0s - 1 threads)\n",
      "m Cells with no flow direction = 149\u001b[39m\n",
      "m Low edge cells               = 7\u001b[39m\n",
      "m High edge cells              = 149\u001b[39m\n",
      "p Labeling flats...\u001b[39m\n",
      "m Unique flats = 8\u001b[39m\n",
      "p Removing flats without outlets from the queue...\u001b[39m\n",
      "  The flat height vector will require approximately 0MB of RAM.\u001b[39m\n",
      "p Creating flat height vector...\u001b[39m\n",
      "p Performing Barnes flat resolution's away gradient...\u001b[39m\n",
      "t Succeeded in = 1.2585e-05 s\u001b[39m\n",
      "p Barnes flat resolution: toward and combined gradients...\u001b[39m\n",
      "t Succeeded in = 1.8597e-05 s\u001b[39m\n",
      "t Wall-time = 0.00152867 s\u001b[39m\n",
      "\n",
      "A Barnes (2014) Flat Resolution (DEM modification)...\u001b[39m\n",
      "C Barnes, R., Lehman, C., Mulla, D., 2014a. An efficient assignment of drainage direction over flat surfaces in raster digital elevation models. Computers & Geosciences 62, 128–135. doi:10.1016/j.cageo.2013.01.009\u001b[39m\n",
      "\n",
      "\u001b[2K[==============================================    ] (92% - 0.0s - 1 threads)\u001b[91mW Cells inappropriately raised above surrounding terrain = 0\u001b[39m\n",
      "\u001b[2Kt Succeeded in = 0.00117911 s\u001b[39m\n"
     ]
    }
   ],
   "source": [
    "dem_1m = tin.gis.load_raster(examples.borden.dem_100cm)\n",
    "dem_1m.fill_depressions()\n",
    "\n",
    "dem_50cm = tin.gis.load_raster(examples.borden.dem_50cm)\n",
    "dem_50cm.fill_depressions()"
   ]
  },
  {
   "cell_type": "code",
   "execution_count": 3,
   "id": "76d5c627",
   "metadata": {},
   "outputs": [
    {
     "data": {
      "text/html": [
       "\n",
       "        <iframe\n",
       "            width=\"100%\"\n",
       "            height=\"650\"\n",
       "            src=\"http://127.0.0.1:8050/\"\n",
       "            frameborder=\"0\"\n",
       "            allowfullscreen\n",
       "        ></iframe>\n",
       "        "
      ],
      "text/plain": [
       "<IPython.lib.display.IFrame at 0x7f85b5da05e0>"
      ]
     },
     "metadata": {},
     "output_type": "display_data"
    }
   ],
   "source": [
    "dem_1m.plot()"
   ]
  },
  {
   "cell_type": "code",
   "execution_count": 5,
   "id": "6f3e9736",
   "metadata": {},
   "outputs": [
    {
     "data": {
      "text/html": [
       "\n",
       "        <iframe\n",
       "            width=\"100%\"\n",
       "            height=\"650\"\n",
       "            src=\"http://127.0.0.1:8050/\"\n",
       "            frameborder=\"0\"\n",
       "            allowfullscreen\n",
       "        ></iframe>\n",
       "        "
      ],
      "text/plain": [
       "<IPython.lib.display.IFrame at 0x7f85b5cbf700>"
      ]
     },
     "metadata": {},
     "output_type": "display_data"
    }
   ],
   "source": [
    "dem_50cm.plot()"
   ]
  },
  {
   "cell_type": "markdown",
   "id": "04dbc6c8-d414-4ff6-94cd-dda04232722a",
   "metadata": {},
   "source": [
    "## Generating the surface mesh"
   ]
  },
  {
   "cell_type": "code",
   "execution_count": 6,
   "id": "817f6df8-97ce-4818-b4fa-952bf35fa3d6",
   "metadata": {},
   "outputs": [
    {
     "name": "stderr",
     "output_type": "stream",
     "text": [
      "\n",
      "A O'Callaghan (1984)/Marks (1984) D8/D4 Flow Accumulation\u001b[39m\n",
      "C O'Callaghan, J.F., Mark, D.M., 1984. The Extraction of Drainage Networks from Digital Elevation Data. Computer vision, graphics, and image processing 28, 323--344.\u001b[39m\n",
      "\n",
      "c topology = D8\u001b[39m\n",
      "\r",
      "\u001b[2K\r",
      "\u001b[2K[                                                  ] (1% - 0.0s - 1 threads)\r",
      "\u001b[2K[=                                                 ] (2% - 0.0s - 1 threads)\r",
      "\u001b[2K[=                                                 ] (3% - 0.0s - 1 threads)\r",
      "\u001b[2K[==                                                ] (4% - 0.0s - 1 threads)\r",
      "\u001b[2K[==                                                ] (5% - 0.0s - 1 threads)\r",
      "\u001b[2K[===                                               ] (6% - 0.0s - 1 threads)\r",
      "\u001b[2K[===                                               ] (7% - 0.0s - 1 threads)\r",
      "\u001b[2K[====                                              ] (8% - 0.0s - 1 threads)\r",
      "\u001b[2K[====                                              ] (9% - 0.0s - 1 threads)\r",
      "\u001b[2K[=====                                             ] (10% - 0.0s - 1 threads)\r",
      "\u001b[2K[=====                                             ] (11% - 0.0s - 1 threads)\r",
      "\u001b[2K[======                                            ] (12% - 0.0s - 1 threads)\r",
      "\u001b[2K[======                                            ] (13% - 0.0s - 1 threads)\r",
      "\u001b[2K[=======                                           ] (14% - 0.0s - 1 threads)\r",
      "\u001b[2K[=======                                           ] (15% - 0.0s - 1 threads)\r",
      "\u001b[2K[========                                          ] (16% - 0.0s - 1 threads)\r",
      "\u001b[2K[========                                          ] (17% - 0.0s - 1 threads)\r",
      "\u001b[2K[=========                                         ] (18% - 0.0s - 1 threads)\r",
      "\u001b[2K[=========                                         ] (19% - 0.0s - 1 threads)\r",
      "\u001b[2K[==========                                        ] (20% - 0.0s - 1 threads)\r",
      "\u001b[2K[==========                                        ] (21% - 0.0s - 1 threads)\r",
      "\u001b[2K[===========                                       ] (22% - 0.0s - 1 threads)\r",
      "\u001b[2K[===========                                       ] (23% - 0.0s - 1 threads)\r",
      "\u001b[2K[============                                      ] (24% - 0.0s - 1 threads)\r",
      "\u001b[2K[============                                      ] (25% - 0.0s - 1 threads)\r",
      "\u001b[2K[=============                                     ] (26% - 0.0s - 1 threads)\r",
      "\u001b[2K[=============                                     ] (27% - 0.0s - 1 threads)\r",
      "\u001b[2K[==============                                    ] (28% - 0.0s - 1 threads)\r",
      "\u001b[2K[==============                                    ] (29% - 0.0s - 1 threads)\r",
      "\u001b[2K[===============                                   ] (30% - 0.0s - 1 threads)\r",
      "\u001b[2K[===============                                   ] (31% - 0.0s - 1 threads)\r",
      "\u001b[2K[================                                  ] (32% - 0.0s - 1 threads)\r",
      "\u001b[2K[================                                  ] (33% - 0.0s - 1 threads)\r",
      "\u001b[2K[=================                                 ] (34% - 0.0s - 1 threads)\r",
      "\u001b[2K[=================                                 ] (35% - 0.0s - 1 threads)\r",
      "\u001b[2K[==================                                ] (36% - 0.0s - 1 threads)\r",
      "\u001b[2K[==================                                ] (37% - 0.0s - 1 threads)\r",
      "\u001b[2K[===================                               ] (38% - 0.0s - 1 threads)\r",
      "\u001b[2K[===================                               ] (39% - 0.0s - 1 threads)\r",
      "\u001b[2K[====================                              ] (40% - 0.0s - 1 threads)\r",
      "\u001b[2K[====================                              ] (41% - 0.0s - 1 threads)\r",
      "\u001b[2K[=====================                             ] (42% - 0.0s - 1 threads)\r",
      "\u001b[2K[=====================                             ] (43% - 0.0s - 1 threads)\r",
      "\u001b[2K[======================                            ] (44% - 0.0s - 1 threads)\r",
      "\u001b[2K[======================                            ] (45% - 0.0s - 1 threads)\r",
      "\u001b[2K[=======================                           ] (46% - 0.0s - 1 threads)\r",
      "\u001b[2K[=======================                           ] (47% - 0.0s - 1 threads)\r",
      "\u001b[2K[========================                          ] (48% - 0.0s - 1 threads)\r",
      "\u001b[2K[========================                          ] (49% - 0.0s - 1 threads)\r",
      "\u001b[2K[=========================                         ] (50% - 0.0s - 1 threads)\r",
      "\u001b[2K[=========================                         ] (51% - 0.0s - 1 threads)\r",
      "\u001b[2K[==========================                        ] (52% - 0.0s - 1 threads)\r",
      "\u001b[2K[==========================                        ] (53% - 0.0s - 1 threads)\r",
      "\u001b[2K[===========================                       ] (54% - 0.0s - 1 threads)\r",
      "\u001b[2K[===========================                       ] (55% - 0.0s - 1 threads)\r",
      "\u001b[2K[============================                      ] (56% - 0.0s - 1 threads)\r",
      "\u001b[2K[============================                      ] (57% - 0.0s - 1 threads)\r",
      "\u001b[2K[=============================                     ] (58% - 0.0s - 1 threads)\r",
      "\u001b[2K[=============================                     ] (59% - 0.0s - 1 threads)\r",
      "\u001b[2K[==============================                    ] (60% - 0.0s - 1 threads)\r",
      "\u001b[2K[==============================                    ] (61% - 0.0s - 1 threads)\r",
      "\u001b[2K[===============================                   ] (62% - 0.0s - 1 threads)\r",
      "\u001b[2K[===============================                   ] (63% - 0.0s - 1 threads)\r",
      "\u001b[2K[================================                  ] (64% - 0.0s - 1 threads)\r",
      "\u001b[2K[================================                  ] (65% - 0.0s - 1 threads)\r",
      "\u001b[2K[=================================                 ] (66% - 0.0s - 1 threads)\r",
      "\u001b[2K[=================================                 ] (67% - 0.0s - 1 threads)\r",
      "\u001b[2K[==================================                ] (68% - 0.0s - 1 threads)\r",
      "\u001b[2K[==================================                ] (69% - 0.0s - 1 threads)\r",
      "\u001b[2K[===================================               ] (70% - 0.0s - 1 threads)\r",
      "\u001b[2K[===================================               ] (71% - 0.0s - 1 threads)\r",
      "\u001b[2K[====================================              ] (72% - 0.0s - 1 threads)\r",
      "\u001b[2K[====================================              ] (73% - 0.0s - 1 threads)\r",
      "\u001b[2K[=====================================             ] (74% - 0.0s - 1 threads)\r",
      "\u001b[2K[=====================================             ] (75% - 0.0s - 1 threads)\r",
      "\u001b[2K[======================================            ] (76% - 0.0s - 1 threads)\r",
      "\u001b[2K[======================================            ] (77% - 0.0s - 1 threads)\r",
      "\u001b[2K[=======================================           ] (78% - 0.0s - 1 threads)\r",
      "\u001b[2K[=======================================           ] (79% - 0.0s - 1 threads)\r",
      "\u001b[2K[========================================          ] (80% - 0.0s - 1 threads)\r",
      "\u001b[2K[========================================          ] (81% - 0.0s - 1 threads)\r",
      "\u001b[2K[=========================================         ] (82% - 0.0s - 1 threads)\r",
      "\u001b[2K[=========================================         ] (83% - 0.0s - 1 threads)\r",
      "\u001b[2K[==========================================        ] (84% - 0.0s - 1 threads)\r",
      "\u001b[2K[==========================================        ] (85% - 0.0s - 1 threads)\r",
      "\u001b[2K[===========================================       ] (86% - 0.0s - 1 threads)\r",
      "\u001b[2K[===========================================       ] (87% - 0.0s - 1 threads)\r",
      "\u001b[2K[============================================      ] (88% - 0.0s - 1 threads)\r",
      "\u001b[2K[============================================      ] (89% - 0.0s - 1 threads)\r",
      "\u001b[2K[=============================================     ] (90% - 0.0s - 1 threads)\r",
      "\u001b[2K[=============================================     ] (91% - 0.0s - 1 threads)\r",
      "\u001b[2K[==============================================    ] (92% - 0.0s - 1 threads)\r",
      "\u001b[2K[==============================================    ] (93% - 0.0s - 1 threads)\r",
      "\u001b[2K[===============================================   ] (94% - 0.0s - 1 threads)\r",
      "\u001b[2K[===============================================   ] (95% - 0.0s - 1 threads)\r",
      "\u001b[2K[================================================  ] (96% - 0.0s - 1 threads)\r",
      "\u001b[2K[================================================  ] (97% - 0.0s - 1 threads)\r",
      "\u001b[2K[================================================= ] (98% - 0.0s - 1 threads)\r",
      "\u001b[2K[================================================= ] (99% - 0.0s - 1 threads)\r",
      "\u001b[2K\n",
      "A Generic Flow Accumulation Algorithm\u001b[39m\n",
      "p Creating dependencies array...\n",
      "\u001b[39m\n",
      "\u001b[95md Source cells found = 857\u001b[39m\n",
      "p Calculating flow accumulation...\u001b[39m\n",
      "\r",
      "\u001b[2K\r",
      "\u001b[2K[                                                  ] (1% - 0.0s - 1 threads)\r",
      "\u001b[2K[=                                                 ] (2% - 0.0s - 1 threads)\r",
      "\u001b[2K[=                                                 ] (3% - 0.0s - 1 threads)\r",
      "\u001b[2K[==                                                ] (4% - 0.0s - 1 threads)\r",
      "\u001b[2K[==                                                ] (5% - 0.0s - 1 threads)\r",
      "\u001b[2K[===                                               ] (6% - 0.0s - 1 threads)\r",
      "\u001b[2K[===                                               ] (7% - 0.0s - 1 threads)\r",
      "\u001b[2K[====                                              ] (8% - 0.0s - 1 threads)\r",
      "\u001b[2K[====                                              ] (9% - 0.0s - 1 threads)\r",
      "\u001b[2K[=====                                             ] (10% - 0.0s - 1 threads)\r",
      "\u001b[2K[=====                                             ] (11% - 0.0s - 1 threads)\r",
      "\u001b[2K[======                                            ] (12% - 0.0s - 1 threads)\r",
      "\u001b[2K[======                                            ] (13% - 0.0s - 1 threads)\r",
      "\u001b[2K[=======                                           ] (14% - 0.0s - 1 threads)\r",
      "\u001b[2K[=======                                           ] (15% - 0.0s - 1 threads)\r",
      "\u001b[2K[========                                          ] (16% - 0.0s - 1 threads)\r",
      "\u001b[2K[========                                          ] (17% - 0.0s - 1 threads)\r",
      "\u001b[2K[=========                                         ] (18% - 0.0s - 1 threads)\r",
      "\u001b[2K[=========                                         ] (19% - 0.0s - 1 threads)\r",
      "\u001b[2K[==========                                        ] (20% - 0.0s - 1 threads)\r",
      "\u001b[2K[==========                                        ] (21% - 0.0s - 1 threads)\r",
      "\u001b[2K[===========                                       ] (22% - 0.0s - 1 threads)\r",
      "\u001b[2K[===========                                       ] (23% - 0.0s - 1 threads)\r",
      "\u001b[2K[============                                      ] (24% - 0.0s - 1 threads)\r",
      "\u001b[2K[============                                      ] (25% - 0.0s - 1 threads)\r",
      "\u001b[2K[=============                                     ] (26% - 0.0s - 1 threads)\r",
      "\u001b[2K[=============                                     ] (27% - 0.0s - 1 threads)\r",
      "\u001b[2K[==============                                    ] (28% - 0.0s - 1 threads)\r",
      "\u001b[2K[==============                                    ] (29% - 0.0s - 1 threads)\r",
      "\u001b[2K[===============                                   ] (30% - 0.0s - 1 threads)\r",
      "\u001b[2K[===============                                   ] (31% - 0.0s - 1 threads)\r",
      "\u001b[2K[================                                  ] (32% - 0.0s - 1 threads)\r",
      "\u001b[2K[================                                  ] (33% - 0.0s - 1 threads)\r",
      "\u001b[2K[=================                                 ] (34% - 0.0s - 1 threads)\r",
      "\u001b[2K[=================                                 ] (35% - 0.0s - 1 threads)\r",
      "\u001b[2K[==================                                ] (36% - 0.0s - 1 threads)\r",
      "\u001b[2K[==================                                ] (37% - 0.0s - 1 threads)\r",
      "\u001b[2K[===================                               ] (38% - 0.0s - 1 threads)\r",
      "\u001b[2K[===================                               ] (39% - 0.0s - 1 threads)\r",
      "\u001b[2K[====================                              ] (40% - 0.0s - 1 threads)\r",
      "\u001b[2K[====================                              ] (41% - 0.0s - 1 threads)\r",
      "\u001b[2K[=====================                             ] (42% - 0.0s - 1 threads)\r",
      "\u001b[2K[=====================                             ] (43% - 0.0s - 1 threads)\r",
      "\u001b[2K[======================                            ] (44% - 0.0s - 1 threads)\r",
      "\u001b[2K[======================                            ] (45% - 0.0s - 1 threads)\r",
      "\u001b[2K[=======================                           ] (46% - 0.0s - 1 threads)\r",
      "\u001b[2K[=======================                           ] (47% - 0.0s - 1 threads)\r",
      "\u001b[2K[========================                          ] (48% - 0.0s - 1 threads)\r",
      "\u001b[2K[========================                          ] (49% - 0.0s - 1 threads)\r",
      "\u001b[2K[=========================                         ] (50% - 0.0s - 1 threads)\r",
      "\u001b[2K[=========================                         ] (51% - 0.0s - 1 threads)\r",
      "\u001b[2K[==========================                        ] (52% - 0.0s - 1 threads)\r",
      "\u001b[2K[==========================                        ] (53% - 0.0s - 1 threads)\r",
      "\u001b[2K[===========================                       ] (54% - 0.0s - 1 threads)\r",
      "\u001b[2K[===========================                       ] (55% - 0.0s - 1 threads)\r",
      "\u001b[2K[============================                      ] (56% - 0.0s - 1 threads)\r",
      "\u001b[2K[============================                      ] (57% - 0.0s - 1 threads)\r",
      "\u001b[2K[=============================                     ] (58% - 0.0s - 1 threads)\r",
      "\u001b[2K[=============================                     ] (59% - 0.0s - 1 threads)\r",
      "\u001b[2K[==============================                    ] (60% - 0.0s - 1 threads)\r",
      "\u001b[2K[==============================                    ] (61% - 0.0s - 1 threads)\r",
      "\u001b[2K[===============================                   ] (62% - 0.0s - 1 threads)\r",
      "\u001b[2K[===============================                   ] (63% - 0.0s - 1 threads)\r",
      "\u001b[2K[================================                  ] (64% - 0.0s - 1 threads)\r",
      "\u001b[2K[================================                  ] (65% - 0.0s - 1 threads)\r",
      "\u001b[2K[=================================                 ] (66% - 0.0s - 1 threads)\r",
      "\u001b[2K[=================================                 ] (67% - 0.0s - 1 threads)\r",
      "\u001b[2K[==================================                ] (68% - 0.0s - 1 threads)\r",
      "\u001b[2K[==================================                ] (69% - 0.0s - 1 threads)\r",
      "\u001b[2K[===================================               ] (70% - 0.0s - 1 threads)\r",
      "\u001b[2K[===================================               ] (71% - 0.0s - 1 threads)\r",
      "\u001b[2K[====================================              ] (72% - 0.0s - 1 threads)\r",
      "\u001b[2K[====================================              ] (73% - 0.0s - 1 threads)\r",
      "\u001b[2K[=====================================             ] (74% - 0.0s - 1 threads)\r",
      "\u001b[2K[=====================================             ] (75% - 0.0s - 1 threads)\r",
      "\u001b[2K[======================================            ] (76% - 0.0s - 1 threads)\r",
      "\u001b[2K[======================================            ] (77% - 0.0s - 1 threads)\r",
      "\u001b[2K[=======================================           ] (78% - 0.0s - 1 threads)\r",
      "\u001b[2K[=======================================           ] (79% - 0.0s - 1 threads)\r",
      "\u001b[2Kt Wall-time       = 0.00133079 s\u001b[39m\n"
     ]
    },
    {
     "data": {
      "text/html": [
       "\n",
       "        <iframe\n",
       "            width=\"100%\"\n",
       "            height=\"650\"\n",
       "            src=\"http://127.0.0.1:8050/\"\n",
       "            frameborder=\"0\"\n",
       "            allowfullscreen\n",
       "        ></iframe>\n",
       "        "
      ],
      "text/plain": [
       "<IPython.lib.display.IFrame at 0x7f85b5ae11c0>"
      ]
     },
     "metadata": {},
     "output_type": "display_data"
    }
   ],
   "source": [
    "ws_flow = tin.gis.watershed_delineation(dem_50cm, threshold=100., method='D8')\n",
    "ws_flow.plot(layers=[dem_50cm])"
   ]
  },
  {
   "cell_type": "code",
   "execution_count": 7,
   "id": "01577df9-a515-4350-ad2b-e43781b28433",
   "metadata": {},
   "outputs": [
    {
     "data": {
      "text/html": [
       "\n",
       "        <iframe\n",
       "            width=\"100%\"\n",
       "            height=\"650\"\n",
       "            src=\"http://127.0.0.1:8050/\"\n",
       "            frameborder=\"0\"\n",
       "            allowfullscreen\n",
       "        ></iframe>\n",
       "        "
      ],
      "text/plain": [
       "<IPython.lib.display.IFrame at 0x7f85b5d86c10>"
      ]
     },
     "metadata": {},
     "output_type": "display_data"
    }
   ],
   "source": [
    "triangular_surface = tin.meshing.triangulate(\n",
    "    dem_50cm,\n",
    "    min_edge_length=0.01,\n",
    "    max_edge_length=0.1,\n",
    "    method='jigsaw',\n",
    "    refinement_feature=ws_flow,\n",
    "    scaling_type='relative',\n",
    ")\n",
    "\n",
    "triangular_surface.plot()"
   ]
  },
  {
   "cell_type": "markdown",
   "id": "d5ee25c1-86c3-4be0-b45e-489c6ab4323e",
   "metadata": {},
   "source": [
    "# Extruding the mesh\n",
    "\n",
    "The layering schema is:\n",
    "  * Layer 1: 50 cm thick, with 5 sublayers\n",
    "  * Layer 2: 1 meter thick, with 5 sublayers in 20 cm increments\n",
    "  * Layer 3: flat bottom at `z = 0 m`, with 5 sublayers"
   ]
  },
  {
   "cell_type": "code",
   "execution_count": 8,
   "id": "b77d053b-cbbd-414c-85e4-8866e3da8b50",
   "metadata": {},
   "outputs": [
    {
     "data": {
      "text/html": [
       "\n",
       "        <iframe\n",
       "            width=\"100%\"\n",
       "            height=\"650\"\n",
       "            src=\"http://127.0.0.1:8050/\"\n",
       "            frameborder=\"0\"\n",
       "            allowfullscreen\n",
       "        ></iframe>\n",
       "        "
      ],
      "text/plain": [
       "<IPython.lib.display.IFrame at 0x7f85b5cbff70>"
      ]
     },
     "metadata": {},
     "output_type": "display_data"
    }
   ],
   "source": [
    "layers = [\n",
    "    (\"constant\", 0.5, 5, 1),\n",
    "    (\"constant\", 1., 5, 2),\n",
    "    (\"snapped\", 0., 5, 3),\n",
    "]\n",
    "\n",
    "volume_mesh = tin.meshing.extrude_mesh(triangular_surface, layers)\n",
    "volume_mesh.plot()"
   ]
  },
  {
   "cell_type": "markdown",
   "id": "d5205347-09ec-4722-88df-204632164488",
   "metadata": {},
   "source": [
    "# Generating sets\n",
    "\n",
    "To generate sets, we first build a surface mesh with `vol_mesh.surface_mesh()`. This provides us with the necessarily helper functions to get started constructing side and point sets.\n",
    "\n",
    "Some default sets are available, like `top_faces`, `top_nodes`, `bottom_faces`, `bottom_nodes`, `side_faces`, and `side_nodes`.\n",
    "\n",
    "We can pass these sets into the `vol_mesh.view()` method to see them."
   ]
  },
  {
   "cell_type": "code",
   "execution_count": 10,
   "id": "86093225-2a85-4e58-9bd1-ea2b796427ba",
   "metadata": {},
   "outputs": [
    {
     "name": "stdout",
     "output_type": "stream",
     "text": [
      "Sets\n",
      "----\n",
      "SideSet<name=TopFaces, num_faces=2413>\n",
      "SideSet<name=BottomFaces, num_faces=2413>\n",
      "SideSet<name=SideFaces, num_faces=1335>\n"
     ]
    },
    {
     "data": {
      "text/html": [
       "\n",
       "        <iframe\n",
       "            width=\"100%\"\n",
       "            height=\"650\"\n",
       "            src=\"http://127.0.0.1:8050/\"\n",
       "            frameborder=\"0\"\n",
       "            allowfullscreen\n",
       "        ></iframe>\n",
       "        "
      ],
      "text/plain": [
       "<IPython.lib.display.IFrame at 0x7f85b660bf10>"
      ]
     },
     "metadata": {},
     "output_type": "display_data"
    }
   ],
   "source": [
    "surface_mesh = volume_mesh.surface_mesh()\n",
    "\n",
    "# Extract top and bottom faces, and side nodes\n",
    "top_faces = surface_mesh.top_faces\n",
    "bottom_faces = surface_mesh.bottom_faces\n",
    "side_faces = surface_mesh.side_faces\n",
    "\n",
    "print('Sets')\n",
    "print('----')\n",
    "print(top_faces)\n",
    "print(bottom_faces)\n",
    "print(side_faces)\n",
    "\n",
    "# View them\n",
    "volume_mesh.plot(sets=(top_faces, bottom_faces, side_faces))"
   ]
  },
  {
   "cell_type": "markdown",
   "id": "30dfb9b4-1997-4c48-9d09-ee82c483c498",
   "metadata": {},
   "source": [
    "# Advanced set operations\n",
    "\n",
    "More advanced set functionality is provided. With the `discretize_sides` method, we can pass in a set of nodes (in clockwise ordering) to capture the faces along that perimeter. The nodes are (x, y) pairs, assumed to be in the same CRS as the mesh.\n",
    "\n",
    "Using the `at_layer` argument allows you to specify a specific layer instead of every side.\n",
    "\n",
    "There are also set functions like `remove`, `join`, and `intersection`, which allow you to interact with sets for more complex generation."
   ]
  },
  {
   "cell_type": "code",
   "execution_count": 11,
   "id": "a48ddf3c-ca5b-489a-82c7-aa82cc456120",
   "metadata": {},
   "outputs": [
    {
     "data": {
      "text/html": [
       "<pre style=\"white-space:pre;overflow-x:auto;line-height:normal;font-family:Menlo,'DejaVu Sans Mono',consolas,'Courier New',monospace\"><span style=\"color: #7fbfbf; text-decoration-color: #7fbfbf\">[16:28:29] </span>Generating side set for sublayer <span style=\"color: #008080; text-decoration-color: #008080; font-weight: bold\">1</span> of <span style=\"color: #008080; text-decoration-color: #008080; font-weight: bold\">15</span>                       <a href=\"file:///Users/livingston/dev/lanl/tinerator/tinerator/meshing/surface_mesh.py\"><span style=\"color: #7f7f7f; text-decoration-color: #7f7f7f\">surface_mesh.py</span></a><span style=\"color: #7f7f7f; text-decoration-color: #7f7f7f\">:374</span>\n",
       "</pre>\n"
      ],
      "text/plain": [
       "\u001b[2;36m[16:28:29]\u001b[0m\u001b[2;36m \u001b[0mGenerating side set for sublayer \u001b[1;36m1\u001b[0m of \u001b[1;36m15\u001b[0m                       \u001b]8;id=1631831309.28668-10389;file:///Users/livingston/dev/lanl/tinerator/tinerator/meshing/surface_mesh.py\u001b\\\u001b[2msurface_mesh.py\u001b[0m\u001b]8;;\u001b\\\u001b[2m:374\u001b[0m\n"
      ]
     },
     "metadata": {},
     "output_type": "display_data"
    },
    {
     "data": {
      "text/html": [
       "<pre style=\"white-space:pre;overflow-x:auto;line-height:normal;font-family:Menlo,'DejaVu Sans Mono',consolas,'Courier New',monospace\"><span style=\"color: #7fbfbf; text-decoration-color: #7fbfbf\">           </span>Generating side set for sublayer <span style=\"color: #008080; text-decoration-color: #008080; font-weight: bold\">2</span> of <span style=\"color: #008080; text-decoration-color: #008080; font-weight: bold\">15</span>                       <a href=\"file:///Users/livingston/dev/lanl/tinerator/tinerator/meshing/surface_mesh.py\"><span style=\"color: #7f7f7f; text-decoration-color: #7f7f7f\">surface_mesh.py</span></a><span style=\"color: #7f7f7f; text-decoration-color: #7f7f7f\">:374</span>\n",
       "</pre>\n"
      ],
      "text/plain": [
       "\u001b[2;36m          \u001b[0m\u001b[2;36m \u001b[0mGenerating side set for sublayer \u001b[1;36m2\u001b[0m of \u001b[1;36m15\u001b[0m                       \u001b]8;id=1631831309.310144-994933;file:///Users/livingston/dev/lanl/tinerator/tinerator/meshing/surface_mesh.py\u001b\\\u001b[2msurface_mesh.py\u001b[0m\u001b]8;;\u001b\\\u001b[2m:374\u001b[0m\n"
      ]
     },
     "metadata": {},
     "output_type": "display_data"
    },
    {
     "data": {
      "text/html": [
       "<pre style=\"white-space:pre;overflow-x:auto;line-height:normal;font-family:Menlo,'DejaVu Sans Mono',consolas,'Courier New',monospace\"><span style=\"color: #7fbfbf; text-decoration-color: #7fbfbf\">           </span>Generating side set for sublayer <span style=\"color: #008080; text-decoration-color: #008080; font-weight: bold\">3</span> of <span style=\"color: #008080; text-decoration-color: #008080; font-weight: bold\">15</span>                       <a href=\"file:///Users/livingston/dev/lanl/tinerator/tinerator/meshing/surface_mesh.py\"><span style=\"color: #7f7f7f; text-decoration-color: #7f7f7f\">surface_mesh.py</span></a><span style=\"color: #7f7f7f; text-decoration-color: #7f7f7f\">:374</span>\n",
       "</pre>\n"
      ],
      "text/plain": [
       "\u001b[2;36m          \u001b[0m\u001b[2;36m \u001b[0mGenerating side set for sublayer \u001b[1;36m3\u001b[0m of \u001b[1;36m15\u001b[0m                       \u001b]8;id=1631831309.332048-76506;file:///Users/livingston/dev/lanl/tinerator/tinerator/meshing/surface_mesh.py\u001b\\\u001b[2msurface_mesh.py\u001b[0m\u001b]8;;\u001b\\\u001b[2m:374\u001b[0m\n"
      ]
     },
     "metadata": {},
     "output_type": "display_data"
    },
    {
     "data": {
      "text/html": [
       "<pre style=\"white-space:pre;overflow-x:auto;line-height:normal;font-family:Menlo,'DejaVu Sans Mono',consolas,'Courier New',monospace\"><span style=\"color: #7fbfbf; text-decoration-color: #7fbfbf\">           </span>Generating side set for sublayer <span style=\"color: #008080; text-decoration-color: #008080; font-weight: bold\">4</span> of <span style=\"color: #008080; text-decoration-color: #008080; font-weight: bold\">15</span>                       <a href=\"file:///Users/livingston/dev/lanl/tinerator/tinerator/meshing/surface_mesh.py\"><span style=\"color: #7f7f7f; text-decoration-color: #7f7f7f\">surface_mesh.py</span></a><span style=\"color: #7f7f7f; text-decoration-color: #7f7f7f\">:374</span>\n",
       "</pre>\n"
      ],
      "text/plain": [
       "\u001b[2;36m          \u001b[0m\u001b[2;36m \u001b[0mGenerating side set for sublayer \u001b[1;36m4\u001b[0m of \u001b[1;36m15\u001b[0m                       \u001b]8;id=1631831309.3637671-490314;file:///Users/livingston/dev/lanl/tinerator/tinerator/meshing/surface_mesh.py\u001b\\\u001b[2msurface_mesh.py\u001b[0m\u001b]8;;\u001b\\\u001b[2m:374\u001b[0m\n"
      ]
     },
     "metadata": {},
     "output_type": "display_data"
    },
    {
     "data": {
      "text/html": [
       "<pre style=\"white-space:pre;overflow-x:auto;line-height:normal;font-family:Menlo,'DejaVu Sans Mono',consolas,'Courier New',monospace\"><span style=\"color: #7fbfbf; text-decoration-color: #7fbfbf\">           </span>Generating side set for sublayer <span style=\"color: #008080; text-decoration-color: #008080; font-weight: bold\">5</span> of <span style=\"color: #008080; text-decoration-color: #008080; font-weight: bold\">15</span>                       <a href=\"file:///Users/livingston/dev/lanl/tinerator/tinerator/meshing/surface_mesh.py\"><span style=\"color: #7f7f7f; text-decoration-color: #7f7f7f\">surface_mesh.py</span></a><span style=\"color: #7f7f7f; text-decoration-color: #7f7f7f\">:374</span>\n",
       "</pre>\n"
      ],
      "text/plain": [
       "\u001b[2;36m          \u001b[0m\u001b[2;36m \u001b[0mGenerating side set for sublayer \u001b[1;36m5\u001b[0m of \u001b[1;36m15\u001b[0m                       \u001b]8;id=1631831309.3948789-70296;file:///Users/livingston/dev/lanl/tinerator/tinerator/meshing/surface_mesh.py\u001b\\\u001b[2msurface_mesh.py\u001b[0m\u001b]8;;\u001b\\\u001b[2m:374\u001b[0m\n"
      ]
     },
     "metadata": {},
     "output_type": "display_data"
    },
    {
     "data": {
      "text/html": [
       "<pre style=\"white-space:pre;overflow-x:auto;line-height:normal;font-family:Menlo,'DejaVu Sans Mono',consolas,'Courier New',monospace\"><span style=\"color: #7fbfbf; text-decoration-color: #7fbfbf\">           </span>Generating side set for sublayer <span style=\"color: #008080; text-decoration-color: #008080; font-weight: bold\">6</span> of <span style=\"color: #008080; text-decoration-color: #008080; font-weight: bold\">15</span>                       <a href=\"file:///Users/livingston/dev/lanl/tinerator/tinerator/meshing/surface_mesh.py\"><span style=\"color: #7f7f7f; text-decoration-color: #7f7f7f\">surface_mesh.py</span></a><span style=\"color: #7f7f7f; text-decoration-color: #7f7f7f\">:374</span>\n",
       "</pre>\n"
      ],
      "text/plain": [
       "\u001b[2;36m          \u001b[0m\u001b[2;36m \u001b[0mGenerating side set for sublayer \u001b[1;36m6\u001b[0m of \u001b[1;36m15\u001b[0m                       \u001b]8;id=1631831309.423917-217218;file:///Users/livingston/dev/lanl/tinerator/tinerator/meshing/surface_mesh.py\u001b\\\u001b[2msurface_mesh.py\u001b[0m\u001b]8;;\u001b\\\u001b[2m:374\u001b[0m\n"
      ]
     },
     "metadata": {},
     "output_type": "display_data"
    },
    {
     "data": {
      "text/html": [
       "<pre style=\"white-space:pre;overflow-x:auto;line-height:normal;font-family:Menlo,'DejaVu Sans Mono',consolas,'Courier New',monospace\"><span style=\"color: #7fbfbf; text-decoration-color: #7fbfbf\">           </span>Generating side set for sublayer <span style=\"color: #008080; text-decoration-color: #008080; font-weight: bold\">7</span> of <span style=\"color: #008080; text-decoration-color: #008080; font-weight: bold\">15</span>                       <a href=\"file:///Users/livingston/dev/lanl/tinerator/tinerator/meshing/surface_mesh.py\"><span style=\"color: #7f7f7f; text-decoration-color: #7f7f7f\">surface_mesh.py</span></a><span style=\"color: #7f7f7f; text-decoration-color: #7f7f7f\">:374</span>\n",
       "</pre>\n"
      ],
      "text/plain": [
       "\u001b[2;36m          \u001b[0m\u001b[2;36m \u001b[0mGenerating side set for sublayer \u001b[1;36m7\u001b[0m of \u001b[1;36m15\u001b[0m                       \u001b]8;id=1631831309.456702-577569;file:///Users/livingston/dev/lanl/tinerator/tinerator/meshing/surface_mesh.py\u001b\\\u001b[2msurface_mesh.py\u001b[0m\u001b]8;;\u001b\\\u001b[2m:374\u001b[0m\n"
      ]
     },
     "metadata": {},
     "output_type": "display_data"
    },
    {
     "data": {
      "text/html": [
       "<pre style=\"white-space:pre;overflow-x:auto;line-height:normal;font-family:Menlo,'DejaVu Sans Mono',consolas,'Courier New',monospace\"><span style=\"color: #7fbfbf; text-decoration-color: #7fbfbf\">           </span>Generating side set for sublayer <span style=\"color: #008080; text-decoration-color: #008080; font-weight: bold\">8</span> of <span style=\"color: #008080; text-decoration-color: #008080; font-weight: bold\">15</span>                       <a href=\"file:///Users/livingston/dev/lanl/tinerator/tinerator/meshing/surface_mesh.py\"><span style=\"color: #7f7f7f; text-decoration-color: #7f7f7f\">surface_mesh.py</span></a><span style=\"color: #7f7f7f; text-decoration-color: #7f7f7f\">:374</span>\n",
       "</pre>\n"
      ],
      "text/plain": [
       "\u001b[2;36m          \u001b[0m\u001b[2;36m \u001b[0mGenerating side set for sublayer \u001b[1;36m8\u001b[0m of \u001b[1;36m15\u001b[0m                       \u001b]8;id=1631831309.488538-48517;file:///Users/livingston/dev/lanl/tinerator/tinerator/meshing/surface_mesh.py\u001b\\\u001b[2msurface_mesh.py\u001b[0m\u001b]8;;\u001b\\\u001b[2m:374\u001b[0m\n"
      ]
     },
     "metadata": {},
     "output_type": "display_data"
    },
    {
     "data": {
      "text/html": [
       "<pre style=\"white-space:pre;overflow-x:auto;line-height:normal;font-family:Menlo,'DejaVu Sans Mono',consolas,'Courier New',monospace\"><span style=\"color: #7fbfbf; text-decoration-color: #7fbfbf\">           </span>Generating side set for sublayer <span style=\"color: #008080; text-decoration-color: #008080; font-weight: bold\">9</span> of <span style=\"color: #008080; text-decoration-color: #008080; font-weight: bold\">15</span>                       <a href=\"file:///Users/livingston/dev/lanl/tinerator/tinerator/meshing/surface_mesh.py\"><span style=\"color: #7f7f7f; text-decoration-color: #7f7f7f\">surface_mesh.py</span></a><span style=\"color: #7f7f7f; text-decoration-color: #7f7f7f\">:374</span>\n",
       "</pre>\n"
      ],
      "text/plain": [
       "\u001b[2;36m          \u001b[0m\u001b[2;36m \u001b[0mGenerating side set for sublayer \u001b[1;36m9\u001b[0m of \u001b[1;36m15\u001b[0m                       \u001b]8;id=1631831309.5312572-624237;file:///Users/livingston/dev/lanl/tinerator/tinerator/meshing/surface_mesh.py\u001b\\\u001b[2msurface_mesh.py\u001b[0m\u001b]8;;\u001b\\\u001b[2m:374\u001b[0m\n"
      ]
     },
     "metadata": {},
     "output_type": "display_data"
    },
    {
     "data": {
      "text/html": [
       "<pre style=\"white-space:pre;overflow-x:auto;line-height:normal;font-family:Menlo,'DejaVu Sans Mono',consolas,'Courier New',monospace\"><span style=\"color: #7fbfbf; text-decoration-color: #7fbfbf\">           </span>Generating side set for sublayer <span style=\"color: #008080; text-decoration-color: #008080; font-weight: bold\">10</span> of <span style=\"color: #008080; text-decoration-color: #008080; font-weight: bold\">15</span>                      <a href=\"file:///Users/livingston/dev/lanl/tinerator/tinerator/meshing/surface_mesh.py\"><span style=\"color: #7f7f7f; text-decoration-color: #7f7f7f\">surface_mesh.py</span></a><span style=\"color: #7f7f7f; text-decoration-color: #7f7f7f\">:374</span>\n",
       "</pre>\n"
      ],
      "text/plain": [
       "\u001b[2;36m          \u001b[0m\u001b[2;36m \u001b[0mGenerating side set for sublayer \u001b[1;36m10\u001b[0m of \u001b[1;36m15\u001b[0m                      \u001b]8;id=1631831309.568629-517769;file:///Users/livingston/dev/lanl/tinerator/tinerator/meshing/surface_mesh.py\u001b\\\u001b[2msurface_mesh.py\u001b[0m\u001b]8;;\u001b\\\u001b[2m:374\u001b[0m\n"
      ]
     },
     "metadata": {},
     "output_type": "display_data"
    },
    {
     "data": {
      "text/html": [
       "<pre style=\"white-space:pre;overflow-x:auto;line-height:normal;font-family:Menlo,'DejaVu Sans Mono',consolas,'Courier New',monospace\"><span style=\"color: #7fbfbf; text-decoration-color: #7fbfbf\">           </span>Generating side set for sublayer <span style=\"color: #008080; text-decoration-color: #008080; font-weight: bold\">11</span> of <span style=\"color: #008080; text-decoration-color: #008080; font-weight: bold\">15</span>                      <a href=\"file:///Users/livingston/dev/lanl/tinerator/tinerator/meshing/surface_mesh.py\"><span style=\"color: #7f7f7f; text-decoration-color: #7f7f7f\">surface_mesh.py</span></a><span style=\"color: #7f7f7f; text-decoration-color: #7f7f7f\">:374</span>\n",
       "</pre>\n"
      ],
      "text/plain": [
       "\u001b[2;36m          \u001b[0m\u001b[2;36m \u001b[0mGenerating side set for sublayer \u001b[1;36m11\u001b[0m of \u001b[1;36m15\u001b[0m                      \u001b]8;id=1631831309.606446-339348;file:///Users/livingston/dev/lanl/tinerator/tinerator/meshing/surface_mesh.py\u001b\\\u001b[2msurface_mesh.py\u001b[0m\u001b]8;;\u001b\\\u001b[2m:374\u001b[0m\n"
      ]
     },
     "metadata": {},
     "output_type": "display_data"
    },
    {
     "data": {
      "text/html": [
       "<pre style=\"white-space:pre;overflow-x:auto;line-height:normal;font-family:Menlo,'DejaVu Sans Mono',consolas,'Courier New',monospace\"><span style=\"color: #7fbfbf; text-decoration-color: #7fbfbf\">           </span>Generating side set for sublayer <span style=\"color: #008080; text-decoration-color: #008080; font-weight: bold\">12</span> of <span style=\"color: #008080; text-decoration-color: #008080; font-weight: bold\">15</span>                      <a href=\"file:///Users/livingston/dev/lanl/tinerator/tinerator/meshing/surface_mesh.py\"><span style=\"color: #7f7f7f; text-decoration-color: #7f7f7f\">surface_mesh.py</span></a><span style=\"color: #7f7f7f; text-decoration-color: #7f7f7f\">:374</span>\n",
       "</pre>\n"
      ],
      "text/plain": [
       "\u001b[2;36m          \u001b[0m\u001b[2;36m \u001b[0mGenerating side set for sublayer \u001b[1;36m12\u001b[0m of \u001b[1;36m15\u001b[0m                      \u001b]8;id=1631831309.650934-464134;file:///Users/livingston/dev/lanl/tinerator/tinerator/meshing/surface_mesh.py\u001b\\\u001b[2msurface_mesh.py\u001b[0m\u001b]8;;\u001b\\\u001b[2m:374\u001b[0m\n"
      ]
     },
     "metadata": {},
     "output_type": "display_data"
    },
    {
     "data": {
      "text/html": [
       "<pre style=\"white-space:pre;overflow-x:auto;line-height:normal;font-family:Menlo,'DejaVu Sans Mono',consolas,'Courier New',monospace\"><span style=\"color: #7fbfbf; text-decoration-color: #7fbfbf\">           </span>Generating side set for sublayer <span style=\"color: #008080; text-decoration-color: #008080; font-weight: bold\">13</span> of <span style=\"color: #008080; text-decoration-color: #008080; font-weight: bold\">15</span>                      <a href=\"file:///Users/livingston/dev/lanl/tinerator/tinerator/meshing/surface_mesh.py\"><span style=\"color: #7f7f7f; text-decoration-color: #7f7f7f\">surface_mesh.py</span></a><span style=\"color: #7f7f7f; text-decoration-color: #7f7f7f\">:374</span>\n",
       "</pre>\n"
      ],
      "text/plain": [
       "\u001b[2;36m          \u001b[0m\u001b[2;36m \u001b[0mGenerating side set for sublayer \u001b[1;36m13\u001b[0m of \u001b[1;36m15\u001b[0m                      \u001b]8;id=1631831309.6959722-693327;file:///Users/livingston/dev/lanl/tinerator/tinerator/meshing/surface_mesh.py\u001b\\\u001b[2msurface_mesh.py\u001b[0m\u001b]8;;\u001b\\\u001b[2m:374\u001b[0m\n"
      ]
     },
     "metadata": {},
     "output_type": "display_data"
    },
    {
     "data": {
      "text/html": [
       "<pre style=\"white-space:pre;overflow-x:auto;line-height:normal;font-family:Menlo,'DejaVu Sans Mono',consolas,'Courier New',monospace\"><span style=\"color: #7fbfbf; text-decoration-color: #7fbfbf\">           </span>Generating side set for sublayer <span style=\"color: #008080; text-decoration-color: #008080; font-weight: bold\">14</span> of <span style=\"color: #008080; text-decoration-color: #008080; font-weight: bold\">15</span>                      <a href=\"file:///Users/livingston/dev/lanl/tinerator/tinerator/meshing/surface_mesh.py\"><span style=\"color: #7f7f7f; text-decoration-color: #7f7f7f\">surface_mesh.py</span></a><span style=\"color: #7f7f7f; text-decoration-color: #7f7f7f\">:374</span>\n",
       "</pre>\n"
      ],
      "text/plain": [
       "\u001b[2;36m          \u001b[0m\u001b[2;36m \u001b[0mGenerating side set for sublayer \u001b[1;36m14\u001b[0m of \u001b[1;36m15\u001b[0m                      \u001b]8;id=1631831309.7416708-165190;file:///Users/livingston/dev/lanl/tinerator/tinerator/meshing/surface_mesh.py\u001b\\\u001b[2msurface_mesh.py\u001b[0m\u001b]8;;\u001b\\\u001b[2m:374\u001b[0m\n"
      ]
     },
     "metadata": {},
     "output_type": "display_data"
    },
    {
     "data": {
      "text/html": [
       "<pre style=\"white-space:pre;overflow-x:auto;line-height:normal;font-family:Menlo,'DejaVu Sans Mono',consolas,'Courier New',monospace\"><span style=\"color: #7fbfbf; text-decoration-color: #7fbfbf\">           </span>Generating side set for sublayer <span style=\"color: #008080; text-decoration-color: #008080; font-weight: bold\">15</span> of <span style=\"color: #008080; text-decoration-color: #008080; font-weight: bold\">15</span>                      <a href=\"file:///Users/livingston/dev/lanl/tinerator/tinerator/meshing/surface_mesh.py\"><span style=\"color: #7f7f7f; text-decoration-color: #7f7f7f\">surface_mesh.py</span></a><span style=\"color: #7f7f7f; text-decoration-color: #7f7f7f\">:374</span>\n",
       "</pre>\n"
      ],
      "text/plain": [
       "\u001b[2;36m          \u001b[0m\u001b[2;36m \u001b[0mGenerating side set for sublayer \u001b[1;36m15\u001b[0m of \u001b[1;36m15\u001b[0m                      \u001b]8;id=1631831309.791775-169201;file:///Users/livingston/dev/lanl/tinerator/tinerator/meshing/surface_mesh.py\u001b\\\u001b[2msurface_mesh.py\u001b[0m\u001b]8;;\u001b\\\u001b[2m:374\u001b[0m\n"
      ]
     },
     "metadata": {},
     "output_type": "display_data"
    },
    {
     "name": "stdout",
     "output_type": "stream",
     "text": [
      "Outlet sets: \n",
      "-------------\n",
      "[SideSet<name=Outlet, num_faces=1230>, SideSet<name=NoFlow, num_faces=105>]\n"
     ]
    },
    {
     "data": {
      "text/html": [
       "\n",
       "        <iframe\n",
       "            width=\"100%\"\n",
       "            height=\"650\"\n",
       "            src=\"http://127.0.0.1:8050/\"\n",
       "            frameborder=\"0\"\n",
       "            allowfullscreen\n",
       "        ></iframe>\n",
       "        "
      ],
      "text/plain": [
       "<IPython.lib.display.IFrame at 0x7f85b5b08040>"
      ]
     },
     "metadata": {},
     "output_type": "display_data"
    }
   ],
   "source": [
    "# Generates two sets:\n",
    "#  1 - Outlet (between the line segment in `outlet_pts`)\n",
    "#  2 - No flow (everywhere else)\n",
    "\n",
    "outlet_pts = [\n",
    "    (71.9, 4.7),\n",
    "    (67.3, 2.1),\n",
    "]\n",
    "\n",
    "# Returns list of two sets\n",
    "outlet = surface_mesh.discretize_sides(\n",
    "    outlet_pts, close_ends=True, #at_layer=(1, 1), set_name_prefix=\"Outlet\"\n",
    ")\n",
    "\n",
    "# Change the set names\n",
    "outlet[0].name = \"Outlet\"\n",
    "outlet[1].name = \"NoFlow\"\n",
    "\n",
    "print('Outlet sets: ')\n",
    "print('-------------')\n",
    "print(outlet)\n",
    "\n",
    "# Visualize\n",
    "volume_mesh.plot(sets=[outlet])"
   ]
  },
  {
   "cell_type": "markdown",
   "id": "d6185016-2eef-409a-8c6b-bb16de03df1c",
   "metadata": {},
   "source": [
    "# Writing to disk\n",
    "\n",
    "Sets can be written to disk in the ExodusII meshing format:"
   ]
  },
  {
   "cell_type": "code",
   "execution_count": 15,
   "id": "c8f6c03a-8faf-4922-b9be-0a1c0ec3e042",
   "metadata": {},
   "outputs": [
    {
     "name": "stdout",
     "output_type": "stream",
     "text": [
      "Outlet: min = 700; max = 33997\n",
      "NoFlow: min = 11; max = 34268\n",
      "TopFaces: min = 1; max = 2286\n",
      "BottomFaces: min = 32005; max = 34290\n",
      "\n",
      "You are using exodus.py v 1.20.2 (seacas-py3), a python wrapper of some of the exodus library.\n",
      "\n",
      "Copyright (c) 2013, 2014, 2015, 2016, 2017, 2018, 2019, 2020, 2021 National Technology &\n",
      "Engineering Solutions of Sandia, LLC (NTESS).  Under the terms of\n",
      "Contract DE-NA0003525 with NTESS, the U.S. Government retains certain\n",
      "rights in this software.\n",
      "\n",
      "Opening exodus file: Borden.exo\n",
      "Closing exodus file: Borden.exo\n",
      "EXODUS write was successful.\n"
     ]
    }
   ],
   "source": [
    "volume_mesh.save(\"Borden.exo\", sets=[outlet, top_faces, bottom_faces])"
   ]
  }
 ],
 "metadata": {
  "kernelspec": {
   "display_name": "Python 3 (ipykernel)",
   "language": "python",
   "name": "python3"
  },
  "language_info": {
   "codemirror_mode": {
    "name": "ipython",
    "version": 3
   },
   "file_extension": ".py",
   "mimetype": "text/x-python",
   "name": "python",
   "nbconvert_exporter": "python",
   "pygments_lexer": "ipython3",
   "version": "3.8.10"
  }
 },
 "nbformat": 4,
 "nbformat_minor": 5
}
