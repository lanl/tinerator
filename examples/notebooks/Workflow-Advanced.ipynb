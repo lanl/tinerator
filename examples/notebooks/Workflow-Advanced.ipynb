{
 "cells": [
  {
   "cell_type": "markdown",
   "id": "9efa935b-e406-4995-ace5-0d4360adff65",
   "metadata": {},
   "source": [
    "# TINerator - Complete Workflow\n",
    "\n",
    "This notebook is intended to demonstrate, more or less comprehensively, the complete workflow of TINerator and advanced functionality."
   ]
  },
  {
   "cell_type": "code",
   "execution_count": 1,
   "id": "6750f3d7-04b8-46a3-abc1-cad4ad21abb0",
   "metadata": {},
   "outputs": [
    {
     "name": "stderr",
     "output_type": "stream",
     "text": [
      "OMP: Info #271: omp_set_nested routine deprecated, please use omp_set_max_active_levels instead.\n"
     ]
    }
   ],
   "source": [
    "import tinerator as tin\n",
    "from tinerator import examples\n",
    "\n",
    "import numpy as np\n",
    "from rich import print"
   ]
  },
  {
   "cell_type": "markdown",
   "id": "40fcd451-f8a7-4344-aee4-6c1b5e6c206a",
   "metadata": {},
   "source": [
    "# 1. Importing GIS Datasets"
   ]
  },
  {
   "cell_type": "markdown",
   "id": "8e177e0d-52b4-4054-a807-71bad1969df7",
   "metadata": {},
   "source": [
    "## 1.1 Loading rasters and shapefiles"
   ]
  },
  {
   "cell_type": "code",
   "execution_count": 2,
   "id": "d34ba243-b8f4-4c7c-a80f-7ffd4c40a733",
   "metadata": {},
   "outputs": [
    {
     "data": {
      "text/html": [
       "<pre style=\"white-space:pre;overflow-x:auto;line-height:normal;font-family:Menlo,'DejaVu Sans Mono',consolas,'Courier New',monospace\">DEM filepath <span style=\"font-weight: bold\">(</span>GeoTIFF<span style=\"font-weight: bold\">)</span>: <span style=\"color: #800080; text-decoration-color: #800080\">/Users/livingston/dev/lanl/tinerator/tinerator/examples/data/new_mexi</span>\n",
       "<span style=\"color: #800080; text-decoration-color: #800080\">co/rasters/</span><span style=\"color: #ff00ff; text-decoration-color: #ff00ff\">USGS_NED_13_n37w108_Clipped.tif</span>\n",
       "\n",
       "</pre>\n"
      ],
      "text/plain": [
       "DEM filepath \u001b[1m(\u001b[0mGeoTIFF\u001b[1m)\u001b[0m: \u001b[35m/Users/livingston/dev/lanl/tinerator/tinerator/examples/data/new_mexi\u001b[0m\n",
       "\u001b[35mco/rasters/\u001b[0m\u001b[95mUSGS_NED_13_n37w108_Clipped.tif\u001b[0m\n",
       "\n"
      ]
     },
     "metadata": {},
     "output_type": "display_data"
    },
    {
     "data": {
      "text/html": [
       "<pre style=\"white-space:pre;overflow-x:auto;line-height:normal;font-family:Menlo,'DejaVu Sans Mono',consolas,'Courier New',monospace\">Watershed DEM boundary filepath <span style=\"font-weight: bold\">(</span>Shapefile<span style=\"font-weight: bold\">)</span>: <span style=\"color: #800080; text-decoration-color: #800080\">/Users/livingston/dev/lanl/tinerator/tinerator/e</span>\n",
       "<span style=\"color: #800080; text-decoration-color: #800080\">xamples/data/new_mexico/shapefiles/WBDHU12/</span><span style=\"color: #ff00ff; text-decoration-color: #ff00ff\">WBDHU12.shp</span>\n",
       "\n",
       "</pre>\n"
      ],
      "text/plain": [
       "Watershed DEM boundary filepath \u001b[1m(\u001b[0mShapefile\u001b[1m)\u001b[0m: \u001b[35m/Users/livingston/dev/lanl/tinerator/tinerator/e\u001b[0m\n",
       "\u001b[35mxamples/data/new_mexico/shapefiles/WBDHU12/\u001b[0m\u001b[95mWBDHU12.shp\u001b[0m\n",
       "\n"
      ]
     },
     "metadata": {},
     "output_type": "display_data"
    },
    {
     "data": {
      "text/html": [
       "<pre style=\"white-space:pre;overflow-x:auto;line-height:normal;font-family:Menlo,'DejaVu Sans Mono',consolas,'Courier New',monospace\">Flowline filepath <span style=\"font-weight: bold\">(</span>Shapefile<span style=\"font-weight: bold\">)</span>: <span style=\"color: #800080; text-decoration-color: #800080\">/Users/livingston/dev/lanl/tinerator/tinerator/examples/data/n</span>\n",
       "<span style=\"color: #800080; text-decoration-color: #800080\">ew_mexico/shapefiles/NHDFlowline/</span><span style=\"color: #ff00ff; text-decoration-color: #ff00ff\">NHDFlowline.shp</span>\n",
       "\n",
       "</pre>\n"
      ],
      "text/plain": [
       "Flowline filepath \u001b[1m(\u001b[0mShapefile\u001b[1m)\u001b[0m: \u001b[35m/Users/livingston/dev/lanl/tinerator/tinerator/examples/data/n\u001b[0m\n",
       "\u001b[35mew_mexico/shapefiles/NHDFlowline/\u001b[0m\u001b[95mNHDFlowline.shp\u001b[0m\n",
       "\n"
      ]
     },
     "metadata": {},
     "output_type": "display_data"
    }
   ],
   "source": [
    "dem_filename = examples.new_mexico.dem\n",
    "watershed_boundary = examples.new_mexico.boundary\n",
    "watershed_flowlines = examples.new_mexico.flowline\n",
    "\n",
    "print(f\"DEM filepath (GeoTIFF): {dem_filename}\\n\")\n",
    "print(f\"Watershed DEM boundary filepath (Shapefile): {watershed_boundary}\\n\")\n",
    "print(f\"Flowline filepath (Shapefile): {watershed_flowlines}\\n\")"
   ]
  },
  {
   "cell_type": "code",
   "execution_count": 3,
   "id": "598cc0e1-e468-4ffd-8cf1-5b4c9d4ced95",
   "metadata": {},
   "outputs": [
    {
     "data": {
      "text/html": [
       "<pre style=\"white-space:pre;overflow-x:auto;line-height:normal;font-family:Menlo,'DejaVu Sans Mono',consolas,'Courier New',monospace\">Loaded DEM: \n",
       "        Raster<span style=\"font-weight: bold\">&lt;</span><span style=\"color: #ff00ff; text-decoration-color: #ff00ff; font-weight: bold\">data.</span><span style=\"color: #808000; text-decoration-color: #808000; font-weight: bold\">shape</span><span style=\"color: #000000; text-decoration-color: #000000\">=</span><span style=\"color: #000000; text-decoration-color: #000000; font-weight: bold\">(</span><span style=\"color: #008080; text-decoration-color: #008080; font-weight: bold\">2373</span><span style=\"color: #000000; text-decoration-color: #000000\">, </span><span style=\"color: #008080; text-decoration-color: #008080; font-weight: bold\">2575</span><span style=\"color: #000000; text-decoration-color: #000000; font-weight: bold\">)</span><span style=\"color: #000000; text-decoration-color: #000000\">, </span><span style=\"color: #808000; text-decoration-color: #808000\">extent</span><span style=\"color: #000000; text-decoration-color: #000000\">=</span><span style=\"color: #000000; text-decoration-color: #000000; font-weight: bold\">[</span><span style=\"color: #008080; text-decoration-color: #008080; font-weight: bold\">-107.70482</span><span style=\"color: #000000; text-decoration-color: #000000\">, </span><span style=\"color: #008080; text-decoration-color: #008080; font-weight: bold\">36.29657</span><span style=\"color: #000000; text-decoration-color: #000000\">, </span><span style=\"color: #008080; text-decoration-color: #008080; font-weight: bold\">-107.46639</span><span style=\"color: #000000; text-decoration-color: #000000\">, </span><span style=\"color: #008080; text-decoration-color: #008080; font-weight: bold\">36.5163</span><span style=\"color: #000000; text-decoration-color: #000000; font-weight: bold\">]</span><span style=\"color: #000000; text-decoration-color: #000000\">, </span>\n",
       "<span style=\"color: #808000; text-decoration-color: #808000\">CRS</span><span style=\"color: #000000; text-decoration-color: #000000\">=</span><span style=\"color: #008000; text-decoration-color: #008000\">\"NAD83\"</span><span style=\"font-weight: bold\">&gt;</span>\n",
       "\n",
       "</pre>\n"
      ],
      "text/plain": [
       "Loaded DEM: \n",
       "        Raster\u001b[1m<\u001b[0m\u001b[1;95mdata.\u001b[0m\u001b[1;33mshape\u001b[0m\u001b[39m=\u001b[0m\u001b[1;39m(\u001b[0m\u001b[1;36m2373\u001b[0m\u001b[39m, \u001b[0m\u001b[1;36m2575\u001b[0m\u001b[1;39m)\u001b[0m\u001b[39m, \u001b[0m\u001b[33mextent\u001b[0m\u001b[39m=\u001b[0m\u001b[1;39m[\u001b[0m\u001b[1;36m-107.70482\u001b[0m\u001b[39m, \u001b[0m\u001b[1;36m36.29657\u001b[0m\u001b[39m, \u001b[0m\u001b[1;36m-107.46639\u001b[0m\u001b[39m, \u001b[0m\u001b[1;36m36.5163\u001b[0m\u001b[1;39m]\u001b[0m\u001b[39m, \u001b[0m\n",
       "\u001b[33mCRS\u001b[0m\u001b[39m=\u001b[0m\u001b[32m\"NAD83\"\u001b[0m\u001b[1m>\u001b[0m\n",
       "\n"
      ]
     },
     "metadata": {},
     "output_type": "display_data"
    },
    {
     "data": {
      "text/html": [
       "<pre style=\"white-space:pre;overflow-x:auto;line-height:normal;font-family:Menlo,'DejaVu Sans Mono',consolas,'Courier New',monospace\">Loaded boundary: \n",
       "        Geometry<span style=\"font-weight: bold\">&lt;</span><span style=\"color: #008000; text-decoration-color: #008000\">\"Polygon\"</span><span style=\"color: #000000; text-decoration-color: #000000\">, </span><span style=\"color: #808000; text-decoration-color: #808000\">shapes</span><span style=\"color: #000000; text-decoration-color: #000000\">=</span><span style=\"color: #008080; text-decoration-color: #008080; font-weight: bold\">1</span><span style=\"color: #000000; text-decoration-color: #000000\">, </span><span style=\"color: #808000; text-decoration-color: #808000\">crs</span><span style=\"color: #000000; text-decoration-color: #000000\">=</span><span style=\"color: #008000; text-decoration-color: #008000\">\"NAD83\"</span><span style=\"color: #000000; text-decoration-color: #000000\">, </span><span style=\"color: #808000; text-decoration-color: #808000\">properties</span><span style=\"color: #000000; text-decoration-color: #000000\">=</span><span style=\"color: #008080; text-decoration-color: #008080; font-weight: bold\">1</span><span style=\"font-weight: bold\">&gt;</span>\n",
       "\n",
       "</pre>\n"
      ],
      "text/plain": [
       "Loaded boundary: \n",
       "        Geometry\u001b[1m<\u001b[0m\u001b[32m\"Polygon\"\u001b[0m\u001b[39m, \u001b[0m\u001b[33mshapes\u001b[0m\u001b[39m=\u001b[0m\u001b[1;36m1\u001b[0m\u001b[39m, \u001b[0m\u001b[33mcrs\u001b[0m\u001b[39m=\u001b[0m\u001b[32m\"NAD83\"\u001b[0m\u001b[39m, \u001b[0m\u001b[33mproperties\u001b[0m\u001b[39m=\u001b[0m\u001b[1;36m1\u001b[0m\u001b[1m>\u001b[0m\n",
       "\n"
      ]
     },
     "metadata": {},
     "output_type": "display_data"
    },
    {
     "data": {
      "text/html": [
       "<pre style=\"white-space:pre;overflow-x:auto;line-height:normal;font-family:Menlo,'DejaVu Sans Mono',consolas,'Courier New',monospace\">Loaded flowlines: \n",
       "        Geometry<span style=\"font-weight: bold\">&lt;</span><span style=\"color: #008000; text-decoration-color: #008000\">\"3D MultiLineString\"</span><span style=\"color: #000000; text-decoration-color: #000000\">, </span><span style=\"color: #808000; text-decoration-color: #808000\">shapes</span><span style=\"color: #000000; text-decoration-color: #000000\">=</span><span style=\"color: #008080; text-decoration-color: #008080; font-weight: bold\">3694</span><span style=\"color: #000000; text-decoration-color: #000000\">, </span><span style=\"color: #808000; text-decoration-color: #808000\">crs</span><span style=\"color: #000000; text-decoration-color: #000000\">=</span><span style=\"color: #008000; text-decoration-color: #008000\">\"NAD83\"</span><span style=\"color: #000000; text-decoration-color: #000000\">, </span><span style=\"color: #808000; text-decoration-color: #808000\">properties</span><span style=\"color: #000000; text-decoration-color: #000000\">=</span><span style=\"color: #008080; text-decoration-color: #008080; font-weight: bold\">16</span><span style=\"font-weight: bold\">&gt;</span>\n",
       "\n",
       "</pre>\n"
      ],
      "text/plain": [
       "Loaded flowlines: \n",
       "        Geometry\u001b[1m<\u001b[0m\u001b[32m\"3D MultiLineString\"\u001b[0m\u001b[39m, \u001b[0m\u001b[33mshapes\u001b[0m\u001b[39m=\u001b[0m\u001b[1;36m3694\u001b[0m\u001b[39m, \u001b[0m\u001b[33mcrs\u001b[0m\u001b[39m=\u001b[0m\u001b[32m\"NAD83\"\u001b[0m\u001b[39m, \u001b[0m\u001b[33mproperties\u001b[0m\u001b[39m=\u001b[0m\u001b[1;36m16\u001b[0m\u001b[1m>\u001b[0m\n",
       "\n"
      ]
     },
     "metadata": {},
     "output_type": "display_data"
    }
   ],
   "source": [
    "pheader = lambda s: print(f\"[blue][bold]{s}[/blue][/bold]\")\n",
    "pinfo = lambda s1, s2: print(f\"--> {s1}: \\n\\t{s2}\\n\")\n",
    "\n",
    "dem = tin.gis.load_raster(dem_filename)\n",
    "print(f\"Loaded DEM: \\n\\t{dem}\\n\")\n",
    "\n",
    "boundary = tin.gis.load_shapefile(watershed_boundary)\n",
    "print(f\"Loaded boundary: \\n\\t{boundary}\\n\")\n",
    "\n",
    "flowlines = tin.gis.load_shapefile(watershed_flowlines)\n",
    "print(f\"Loaded flowlines: \\n\\t{flowlines}\\n\")"
   ]
  },
  {
   "cell_type": "markdown",
   "id": "03d92aae-09fb-4c48-9a8d-a69456476f64",
   "metadata": {},
   "source": [
    "## 1.2 Plotting GIS objects"
   ]
  },
  {
   "cell_type": "code",
   "execution_count": 4,
   "id": "bc95a83e-2824-4e18-88f8-abeebbfe42f1",
   "metadata": {},
   "outputs": [
    {
     "ename": "IndexError",
     "evalue": "too many indices for array: array is 1-dimensional, but 2 were indexed",
     "output_type": "error",
     "traceback": [
      "\u001b[0;31m---------------------------------------------------------------------------\u001b[0m",
      "\u001b[0;31mIndexError\u001b[0m                                Traceback (most recent call last)",
      "\u001b[0;32m/var/folders/w0/t3lzvm8s0kj0_dq2h2h954q80000gn/T/ipykernel_97954/2005100724.py\u001b[0m in \u001b[0;36m<module>\u001b[0;34m\u001b[0m\n\u001b[0;32m----> 1\u001b[0;31m \u001b[0mtin\u001b[0m\u001b[0;34m.\u001b[0m\u001b[0mplot2d\u001b[0m\u001b[0;34m(\u001b[0m\u001b[0;34m[\u001b[0m\u001b[0;34m]\u001b[0m\u001b[0;34m)\u001b[0m\u001b[0;31m#[dem, boundary, flowlines])\u001b[0m\u001b[0;34m\u001b[0m\u001b[0;34m\u001b[0m\u001b[0m\n\u001b[0m",
      "\u001b[0;32m~/dev/lanl/tinerator/tinerator/visualize/__init__.py\u001b[0m in \u001b[0;36mplot2d\u001b[0;34m(objects, mapbox_style, show_legend, raster_cmap, zoom_scale, write_image, write_html, **kwargs)\u001b[0m\n\u001b[1;32m    101\u001b[0m         \u001b[0mraster_cmap\u001b[0m \u001b[0;34m(\u001b[0m\u001b[0mlist\u001b[0m\u001b[0;34m,\u001b[0m \u001b[0moptional\u001b[0m\u001b[0;34m)\u001b[0m\u001b[0;34m:\u001b[0m \u001b[0;34m[\u001b[0m\u001b[0mdescription\u001b[0m\u001b[0;34m]\u001b[0m\u001b[0;34m.\u001b[0m \u001b[0mDefaults\u001b[0m \u001b[0mto\u001b[0m \u001b[0;32mNone\u001b[0m\u001b[0;34m.\u001b[0m\u001b[0;34m\u001b[0m\u001b[0;34m\u001b[0m\u001b[0m\n\u001b[1;32m    102\u001b[0m     \"\"\"\n\u001b[0;32m--> 103\u001b[0;31m     layout = get_layout_2d(\n\u001b[0m\u001b[1;32m    104\u001b[0m         \u001b[0mobjects\u001b[0m\u001b[0;34m,\u001b[0m\u001b[0;34m\u001b[0m\u001b[0;34m\u001b[0m\u001b[0m\n\u001b[1;32m    105\u001b[0m         \u001b[0mmapbox_style\u001b[0m\u001b[0;34m=\u001b[0m\u001b[0mmapbox_style\u001b[0m\u001b[0;34m,\u001b[0m\u001b[0;34m\u001b[0m\u001b[0;34m\u001b[0m\u001b[0m\n",
      "\u001b[0;32m~/dev/lanl/tinerator/tinerator/visualize/layout_2d.py\u001b[0m in \u001b[0;36mget_layout\u001b[0;34m(objects, mapbox_style, show_legend, raster_cmap, width, height, zoom_scale, **kwargs)\u001b[0m\n\u001b[1;32m    281\u001b[0m         children=[\n\u001b[1;32m    282\u001b[0m             dcc.Graph(\n\u001b[0;32m--> 283\u001b[0;31m                 figure=init_figure(\n\u001b[0m\u001b[1;32m    284\u001b[0m                     \u001b[0mobjects\u001b[0m\u001b[0;34m,\u001b[0m\u001b[0;34m\u001b[0m\u001b[0;34m\u001b[0m\u001b[0m\n\u001b[1;32m    285\u001b[0m                     \u001b[0mraster_cmap\u001b[0m\u001b[0;34m=\u001b[0m\u001b[0mraster_cmap\u001b[0m\u001b[0;34m,\u001b[0m\u001b[0;34m\u001b[0m\u001b[0;34m\u001b[0m\u001b[0m\n",
      "\u001b[0;32m~/dev/lanl/tinerator/tinerator/visualize/layout_2d.py\u001b[0m in \u001b[0;36minit_figure\u001b[0;34m(objects, raster_cmap, mapbox_style, show_legend, margin, zoom_scale)\u001b[0m\n\u001b[1;32m    235\u001b[0m     \u001b[0mextents\u001b[0m \u001b[0;34m=\u001b[0m \u001b[0mnp\u001b[0m\u001b[0;34m.\u001b[0m\u001b[0marray\u001b[0m\u001b[0;34m(\u001b[0m\u001b[0mextents\u001b[0m\u001b[0;34m)\u001b[0m\u001b[0;34m\u001b[0m\u001b[0;34m\u001b[0m\u001b[0m\n\u001b[1;32m    236\u001b[0m     map_extent = [\n\u001b[0;32m--> 237\u001b[0;31m         \u001b[0mnp\u001b[0m\u001b[0;34m.\u001b[0m\u001b[0mmin\u001b[0m\u001b[0;34m(\u001b[0m\u001b[0mextents\u001b[0m\u001b[0;34m[\u001b[0m\u001b[0;34m:\u001b[0m\u001b[0;34m,\u001b[0m \u001b[0;36m0\u001b[0m\u001b[0;34m]\u001b[0m\u001b[0;34m,\u001b[0m \u001b[0maxis\u001b[0m\u001b[0;34m=\u001b[0m\u001b[0;36m0\u001b[0m\u001b[0;34m)\u001b[0m\u001b[0;34m,\u001b[0m\u001b[0;34m\u001b[0m\u001b[0;34m\u001b[0m\u001b[0m\n\u001b[0m\u001b[1;32m    238\u001b[0m         \u001b[0mnp\u001b[0m\u001b[0;34m.\u001b[0m\u001b[0mmin\u001b[0m\u001b[0;34m(\u001b[0m\u001b[0mextents\u001b[0m\u001b[0;34m[\u001b[0m\u001b[0;34m:\u001b[0m\u001b[0;34m,\u001b[0m \u001b[0;36m1\u001b[0m\u001b[0;34m]\u001b[0m\u001b[0;34m,\u001b[0m \u001b[0maxis\u001b[0m\u001b[0;34m=\u001b[0m\u001b[0;36m0\u001b[0m\u001b[0;34m)\u001b[0m\u001b[0;34m,\u001b[0m\u001b[0;34m\u001b[0m\u001b[0;34m\u001b[0m\u001b[0m\n\u001b[1;32m    239\u001b[0m         \u001b[0mnp\u001b[0m\u001b[0;34m.\u001b[0m\u001b[0mmax\u001b[0m\u001b[0;34m(\u001b[0m\u001b[0mextents\u001b[0m\u001b[0;34m[\u001b[0m\u001b[0;34m:\u001b[0m\u001b[0;34m,\u001b[0m \u001b[0;36m2\u001b[0m\u001b[0;34m]\u001b[0m\u001b[0;34m,\u001b[0m \u001b[0maxis\u001b[0m\u001b[0;34m=\u001b[0m\u001b[0;36m0\u001b[0m\u001b[0;34m)\u001b[0m\u001b[0;34m,\u001b[0m\u001b[0;34m\u001b[0m\u001b[0;34m\u001b[0m\u001b[0m\n",
      "\u001b[0;31mIndexError\u001b[0m: too many indices for array: array is 1-dimensional, but 2 were indexed"
     ]
    }
   ],
   "source": [
    "tin.plot2d([])#[dem, boundary, flowlines])"
   ]
  },
  {
   "cell_type": "markdown",
   "id": "0ccc448a-9502-41fb-bd20-209f9a4161a4",
   "metadata": {},
   "source": [
    "## 1.3 Extracting metadata from GIS objects"
   ]
  },
  {
   "cell_type": "markdown",
   "id": "9c6da3b5-e45b-4df8-aa84-27c8882aff7d",
   "metadata": {},
   "source": [
    "### 1.3.1 Raster metadata"
   ]
  },
  {
   "cell_type": "code",
   "execution_count": 42,
   "id": "885a2451-9225-4d08-a1f2-532d87ad672c",
   "metadata": {},
   "outputs": [
    {
     "data": {
      "text/html": [
       "<pre style=\"white-space:pre;overflow-x:auto;line-height:normal;font-family:Menlo,'DejaVu Sans Mono',consolas,'Courier New',monospace\"><span style=\"color: #000080; text-decoration-color: #000080; font-weight: bold\">Spatial Information</span>\n",
       "</pre>\n"
      ],
      "text/plain": [
       "\u001b[1;34mSpatial Information\u001b[0m\n"
      ]
     },
     "metadata": {},
     "output_type": "display_data"
    },
    {
     "data": {
      "text/html": [
       "<pre style=\"white-space:pre;overflow-x:auto;line-height:normal;font-family:Menlo,'DejaVu Sans Mono',consolas,'Courier New',monospace\">--&gt; CRS <span style=\"font-weight: bold\">(</span>Coordinate Reference System<span style=\"font-weight: bold\">)</span>: \n",
       "        GEOGCS<span style=\"font-weight: bold\">[</span><span style=\"color: #008000; text-decoration-color: #008000\">\"NAD83\"</span>,DATUM<span style=\"font-weight: bold\">[</span><span style=\"color: #008000; text-decoration-color: #008000\">\"North_American_Datum_1983\"</span>,SPHEROID<span style=\"font-weight: bold\">[</span><span style=\"color: #008000; text-decoration-color: #008000\">\"GRS 1980\"</span>,<span style=\"color: #008080; text-decoration-color: #008080; font-weight: bold\">6378137</span>,<span style=\"color: #008080; text-decoration-color: #008080; font-weight: bold\">298.2572</span>\n",
       "<span style=\"color: #008080; text-decoration-color: #008080; font-weight: bold\">22101004</span>,AUTHORITY<span style=\"font-weight: bold\">[</span><span style=\"color: #008000; text-decoration-color: #008000\">\"EPSG\"</span>,<span style=\"color: #008000; text-decoration-color: #008000\">\"7019\"</span><span style=\"font-weight: bold\">]]</span>,AUTHORITY<span style=\"font-weight: bold\">[</span><span style=\"color: #008000; text-decoration-color: #008000\">\"EPSG\"</span>,<span style=\"color: #008000; text-decoration-color: #008000\">\"6269\"</span><span style=\"font-weight: bold\">]]</span>,PRIMEM<span style=\"font-weight: bold\">[</span><span style=\"color: #008000; text-decoration-color: #008000\">\"Greenwich\"</span>,<span style=\"color: #008080; text-decoration-color: #008080; font-weight: bold\">0</span><span style=\"font-weight: bold\">]</span>,UNIT<span style=\"font-weight: bold\">[</span><span style=\"color: #008000; text-decoration-color: #008000\">\"degr</span>\n",
       "<span style=\"color: #008000; text-decoration-color: #008000\">ee\"</span>,<span style=\"color: #008080; text-decoration-color: #008080; font-weight: bold\">0.0174532925199433</span>,AUTHORITY<span style=\"font-weight: bold\">[</span><span style=\"color: #008000; text-decoration-color: #008000\">\"EPSG\"</span>,<span style=\"color: #008000; text-decoration-color: #008000\">\"9122\"</span><span style=\"font-weight: bold\">]]</span>,AXIS<span style=\"font-weight: bold\">[</span><span style=\"color: #008000; text-decoration-color: #008000\">\"Latitude\"</span>,NORTH<span style=\"font-weight: bold\">]</span>,AXIS<span style=\"font-weight: bold\">[</span><span style=\"color: #008000; text-decoration-color: #008000\">\"Longitude\"</span>,EAST\n",
       "<span style=\"font-weight: bold\">]</span>,AUTHORITY<span style=\"font-weight: bold\">[</span><span style=\"color: #008000; text-decoration-color: #008000\">\"EPSG\"</span>,<span style=\"color: #008000; text-decoration-color: #008000\">\"4269\"</span><span style=\"font-weight: bold\">]]</span>\n",
       "\n",
       "</pre>\n"
      ],
      "text/plain": [
       "--> CRS \u001b[1m(\u001b[0mCoordinate Reference System\u001b[1m)\u001b[0m: \n",
       "        GEOGCS\u001b[1m[\u001b[0m\u001b[32m\"NAD83\"\u001b[0m,DATUM\u001b[1m[\u001b[0m\u001b[32m\"North_American_Datum_1983\"\u001b[0m,SPHEROID\u001b[1m[\u001b[0m\u001b[32m\"GRS 1980\"\u001b[0m,\u001b[1;36m6378137\u001b[0m,\u001b[1;36m298.2572\u001b[0m\n",
       "\u001b[1;36m22101004\u001b[0m,AUTHORITY\u001b[1m[\u001b[0m\u001b[32m\"EPSG\"\u001b[0m,\u001b[32m\"7019\"\u001b[0m\u001b[1m]\u001b[0m\u001b[1m]\u001b[0m,AUTHORITY\u001b[1m[\u001b[0m\u001b[32m\"EPSG\"\u001b[0m,\u001b[32m\"6269\"\u001b[0m\u001b[1m]\u001b[0m\u001b[1m]\u001b[0m,PRIMEM\u001b[1m[\u001b[0m\u001b[32m\"Greenwich\"\u001b[0m,\u001b[1;36m0\u001b[0m\u001b[1m]\u001b[0m,UNIT\u001b[1m[\u001b[0m\u001b[32m\"degr\u001b[0m\n",
       "\u001b[32mee\"\u001b[0m,\u001b[1;36m0.0174532925199433\u001b[0m,AUTHORITY\u001b[1m[\u001b[0m\u001b[32m\"EPSG\"\u001b[0m,\u001b[32m\"9122\"\u001b[0m\u001b[1m]\u001b[0m\u001b[1m]\u001b[0m,AXIS\u001b[1m[\u001b[0m\u001b[32m\"Latitude\"\u001b[0m,NORTH\u001b[1m]\u001b[0m,AXIS\u001b[1m[\u001b[0m\u001b[32m\"Longitude\"\u001b[0m,EAST\n",
       "\u001b[1m]\u001b[0m,AUTHORITY\u001b[1m[\u001b[0m\u001b[32m\"EPSG\"\u001b[0m,\u001b[32m\"4269\"\u001b[0m\u001b[1m]\u001b[0m\u001b[1m]\u001b[0m\n",
       "\n"
      ]
     },
     "metadata": {},
     "output_type": "display_data"
    },
    {
     "data": {
      "text/html": [
       "<pre style=\"white-space:pre;overflow-x:auto;line-height:normal;font-family:Menlo,'DejaVu Sans Mono',consolas,'Courier New',monospace\">--&gt; Geotransform array: \n",
       "        <span style=\"font-weight: bold\">(</span><span style=\"color: #008080; text-decoration-color: #008080; font-weight: bold\">-107.704815288716</span>, <span style=\"color: #008080; text-decoration-color: #008080; font-weight: bold\">9.259259299999904e-05</span>, <span style=\"color: #008080; text-decoration-color: #008080; font-weight: bold\">0.0</span>, <span style=\"color: #008080; text-decoration-color: #008080; font-weight: bold\">36.516296456968</span>, <span style=\"color: #008080; text-decoration-color: #008080; font-weight: bold\">0.0</span>, \n",
       "<span style=\"color: #008080; text-decoration-color: #008080; font-weight: bold\">-9.2592593000001e-05</span><span style=\"font-weight: bold\">)</span>\n",
       "\n",
       "</pre>\n"
      ],
      "text/plain": [
       "--> Geotransform array: \n",
       "        \u001b[1m(\u001b[0m\u001b[1;36m-107.704815288716\u001b[0m, \u001b[1;36m9.259259299999904e-05\u001b[0m, \u001b[1;36m0.0\u001b[0m, \u001b[1;36m36.516296456968\u001b[0m, \u001b[1;36m0.0\u001b[0m, \n",
       "\u001b[1;36m-9.2592593000001e-05\u001b[0m\u001b[1m)\u001b[0m\n",
       "\n"
      ]
     },
     "metadata": {},
     "output_type": "display_data"
    },
    {
     "data": {
      "text/html": [
       "<pre style=\"white-space:pre;overflow-x:auto;line-height:normal;font-family:Menlo,'DejaVu Sans Mono',consolas,'Courier New',monospace\">--&gt; Raster Extent <span style=\"font-weight: bold\">(</span>min_x, min_y, max_x, max_y<span style=\"font-weight: bold\">)</span>: \n",
       "        <span style=\"font-weight: bold\">(</span><span style=\"color: #008080; text-decoration-color: #008080; font-weight: bold\">-107.704815288716</span>, <span style=\"color: #008080; text-decoration-color: #008080; font-weight: bold\">36.296574233779005</span>, <span style=\"color: #008080; text-decoration-color: #008080; font-weight: bold\">-107.46638936174101</span>, <span style=\"color: #008080; text-decoration-color: #008080; font-weight: bold\">36.516296456968</span><span style=\"font-weight: bold\">)</span>\n",
       "\n",
       "</pre>\n"
      ],
      "text/plain": [
       "--> Raster Extent \u001b[1m(\u001b[0mmin_x, min_y, max_x, max_y\u001b[1m)\u001b[0m: \n",
       "        \u001b[1m(\u001b[0m\u001b[1;36m-107.704815288716\u001b[0m, \u001b[1;36m36.296574233779005\u001b[0m, \u001b[1;36m-107.46638936174101\u001b[0m, \u001b[1;36m36.516296456968\u001b[0m\u001b[1m)\u001b[0m\n",
       "\n"
      ]
     },
     "metadata": {},
     "output_type": "display_data"
    },
    {
     "data": {
      "text/html": [
       "<pre style=\"white-space:pre;overflow-x:auto;line-height:normal;font-family:Menlo,'DejaVu Sans Mono',consolas,'Courier New',monospace\">--&gt; Raster Centroid: \n",
       "        <span style=\"font-weight: bold\">(</span><span style=\"color: #008080; text-decoration-color: #008080; font-weight: bold\">-107.5856023252285</span>, <span style=\"color: #008080; text-decoration-color: #008080; font-weight: bold\">36.4064353453735</span><span style=\"font-weight: bold\">)</span>\n",
       "\n",
       "</pre>\n"
      ],
      "text/plain": [
       "--> Raster Centroid: \n",
       "        \u001b[1m(\u001b[0m\u001b[1;36m-107.5856023252285\u001b[0m, \u001b[1;36m36.4064353453735\u001b[0m\u001b[1m)\u001b[0m\n",
       "\n"
      ]
     },
     "metadata": {},
     "output_type": "display_data"
    },
    {
     "data": {
      "text/html": [
       "<pre style=\"white-space:pre;overflow-x:auto;line-height:normal;font-family:Menlo,'DejaVu Sans Mono',consolas,'Courier New',monospace\">--&gt; Cell length/height <span style=\"font-weight: bold\">value</span>: \n",
       "        <span style=\"color: #008080; text-decoration-color: #008080; font-weight: bold\">9.259259299999904e-05</span>\n",
       "\n",
       "</pre>\n"
      ],
      "text/plain": [
       "--> Cell length/height \u001b[1mvalue\u001b[0m: \n",
       "        \u001b[1;36m9.259259299999904e-05\u001b[0m\n",
       "\n"
      ]
     },
     "metadata": {},
     "output_type": "display_data"
    },
    {
     "data": {
      "text/html": [
       "<pre style=\"white-space:pre;overflow-x:auto;line-height:normal;font-family:Menlo,'DejaVu Sans Mono',consolas,'Courier New',monospace\">--&gt; Cell length/height <span style=\"font-weight: bold\">units</span>: \n",
       "        degree\n",
       "\n",
       "</pre>\n"
      ],
      "text/plain": [
       "--> Cell length/height \u001b[1munits\u001b[0m: \n",
       "        degree\n",
       "\n"
      ]
     },
     "metadata": {},
     "output_type": "display_data"
    },
    {
     "data": {
      "text/html": [
       "<pre style=\"white-space:pre;overflow-x:auto;line-height:normal;font-family:Menlo,'DejaVu Sans Mono',consolas,'Courier New',monospace\"><span style=\"color: #000080; text-decoration-color: #000080; font-weight: bold\">Matrix Information</span>\n",
       "</pre>\n"
      ],
      "text/plain": [
       "\u001b[1;34mMatrix Information\u001b[0m\n"
      ]
     },
     "metadata": {},
     "output_type": "display_data"
    },
    {
     "data": {
      "text/html": [
       "<pre style=\"white-space:pre;overflow-x:auto;line-height:normal;font-family:Menlo,'DejaVu Sans Mono',consolas,'Courier New',monospace\">--&gt; Matrix <span style=\"font-weight: bold\">(</span>np.ndarray<span style=\"font-weight: bold\">)</span> shape: \n",
       "        <span style=\"font-weight: bold\">(</span><span style=\"color: #008080; text-decoration-color: #008080; font-weight: bold\">2373</span>, <span style=\"color: #008080; text-decoration-color: #008080; font-weight: bold\">2575</span><span style=\"font-weight: bold\">)</span>\n",
       "\n",
       "</pre>\n"
      ],
      "text/plain": [
       "--> Matrix \u001b[1m(\u001b[0mnp.ndarray\u001b[1m)\u001b[0m shape: \n",
       "        \u001b[1m(\u001b[0m\u001b[1;36m2373\u001b[0m, \u001b[1;36m2575\u001b[0m\u001b[1m)\u001b[0m\n",
       "\n"
      ]
     },
     "metadata": {},
     "output_type": "display_data"
    },
    {
     "data": {
      "text/html": [
       "<pre style=\"white-space:pre;overflow-x:auto;line-height:normal;font-family:Menlo,'DejaVu Sans Mono',consolas,'Courier New',monospace\">--&gt; <span style=\"color: #008000; text-decoration-color: #008000\">\"No Data\"</span> value: \n",
       "        <span style=\"color: #008080; text-decoration-color: #008080; font-weight: bold\">-3.4028230607370965e+38</span>\n",
       "\n",
       "</pre>\n"
      ],
      "text/plain": [
       "--> \u001b[32m\"No Data\"\u001b[0m value: \n",
       "        \u001b[1;36m-3.4028230607370965e+38\u001b[0m\n",
       "\n"
      ]
     },
     "metadata": {},
     "output_type": "display_data"
    },
    {
     "data": {
      "text/html": [
       "<pre style=\"white-space:pre;overflow-x:auto;line-height:normal;font-family:Menlo,'DejaVu Sans Mono',consolas,'Courier New',monospace\">--&gt; <span style=\"font-style: italic\">Maximum</span> raster value: \n",
       "        <span style=\"color: #008080; text-decoration-color: #008080; font-weight: bold\">2278.521728515625</span>\n",
       "\n",
       "</pre>\n"
      ],
      "text/plain": [
       "--> \u001b[3mMaximum\u001b[0m raster value: \n",
       "        \u001b[1;36m2278.521728515625\u001b[0m\n",
       "\n"
      ]
     },
     "metadata": {},
     "output_type": "display_data"
    },
    {
     "data": {
      "text/html": [
       "<pre style=\"white-space:pre;overflow-x:auto;line-height:normal;font-family:Menlo,'DejaVu Sans Mono',consolas,'Courier New',monospace\">--&gt; <span style=\"font-style: italic\">Minimum</span> raster value: \n",
       "        <span style=\"color: #008080; text-decoration-color: #008080; font-weight: bold\">1834.21923828125</span>\n",
       "\n",
       "</pre>\n"
      ],
      "text/plain": [
       "--> \u001b[3mMinimum\u001b[0m raster value: \n",
       "        \u001b[1;36m1834.21923828125\u001b[0m\n",
       "\n"
      ]
     },
     "metadata": {},
     "output_type": "display_data"
    },
    {
     "data": {
      "text/html": [
       "<pre style=\"white-space:pre;overflow-x:auto;line-height:normal;font-family:Menlo,'DejaVu Sans Mono',consolas,'Courier New',monospace\">--&gt; Number of <span style=\"color: #008000; text-decoration-color: #008000\">\"No Data\"</span> cells: \n",
       "        <span style=\"color: #008080; text-decoration-color: #008080; font-weight: bold\">0</span>\n",
       "\n",
       "</pre>\n"
      ],
      "text/plain": [
       "--> Number of \u001b[32m\"No Data\"\u001b[0m cells: \n",
       "        \u001b[1;36m0\u001b[0m\n",
       "\n"
      ]
     },
     "metadata": {},
     "output_type": "display_data"
    }
   ],
   "source": [
    "pheader(\"Spatial Information\")\n",
    "pinfo(\"CRS (Coordinate Reference System)\", dem.crs)\n",
    "pinfo(\"Geotransform array\", dem.geotransform)\n",
    "pinfo(\"Raster Extent (min_x, min_y, max_x, max_y)\", dem.extent)\n",
    "pinfo(\"Raster Centroid\", dem.centroid)\n",
    "pinfo(\"Cell length/height [bold]value[/bold]\", dem.cell_size)\n",
    "pinfo(\"Cell length/height [bold]units[/bold]\", dem.units)\n",
    "\n",
    "pheader(\"Matrix Information\")\n",
    "pinfo(\"Matrix (np.ndarray) shape\", dem.shape)\n",
    "pinfo(\"\\\"No Data\\\" value\", dem.no_data_value)\n",
    "pinfo(\"[italic]Maximum[/italic] raster value\", np.nanmax(dem.masked_data()))\n",
    "pinfo(\"[italic]Minimum[/italic] raster value\", np.nanmin(dem.masked_data()))\n",
    "pinfo(\"Number of \\\"No Data\\\" cells\", np.sum(np.isnan(dem.masked_data())))"
   ]
  },
  {
   "cell_type": "markdown",
   "id": "e28e5a11-2e76-4baa-b8be-582f7b943535",
   "metadata": {},
   "source": [
    "### 1.3.2 Shapefile metadata"
   ]
  },
  {
   "cell_type": "code",
   "execution_count": 13,
   "id": "4826e6f7-53f3-4152-bf27-4f0f4df8448e",
   "metadata": {},
   "outputs": [
    {
     "data": {
      "text/html": [
       "<pre style=\"white-space:pre;overflow-x:auto;line-height:normal;font-family:Menlo,'DejaVu Sans Mono',consolas,'Courier New',monospace\"><span style=\"font-weight: bold\">(</span><span style=\"color: #008080; text-decoration-color: #008080; font-weight: bold\">-107.704815288716</span>, <span style=\"color: #008080; text-decoration-color: #008080; font-weight: bold\">36.296574233779005</span>, <span style=\"color: #008080; text-decoration-color: #008080; font-weight: bold\">-107.46638936174101</span>, <span style=\"color: #008080; text-decoration-color: #008080; font-weight: bold\">36.516296456968</span><span style=\"font-weight: bold\">)</span>\n",
       "</pre>\n"
      ],
      "text/plain": [
       "\u001b[1m(\u001b[0m\u001b[1;36m-107.704815288716\u001b[0m, \u001b[1;36m36.296574233779005\u001b[0m, \u001b[1;36m-107.46638936174101\u001b[0m, \u001b[1;36m36.516296456968\u001b[0m\u001b[1m)\u001b[0m\n"
      ]
     },
     "metadata": {},
     "output_type": "display_data"
    },
    {
     "data": {
      "text/html": [
       "<pre style=\"white-space:pre;overflow-x:auto;line-height:normal;font-family:Menlo,'DejaVu Sans Mono',consolas,'Courier New',monospace\"><span style=\"font-weight: bold\">(</span><span style=\"color: #008080; text-decoration-color: #008080; font-weight: bold\">-107.6803268235073</span>, <span style=\"color: #008080; text-decoration-color: #008080; font-weight: bold\">36.32851344361086</span>, <span style=\"color: #008080; text-decoration-color: #008080; font-weight: bold\">-107.53887725289354</span>, <span style=\"color: #008080; text-decoration-color: #008080; font-weight: bold\">36.49256139856453</span><span style=\"font-weight: bold\">)</span>\n",
       "</pre>\n"
      ],
      "text/plain": [
       "\u001b[1m(\u001b[0m\u001b[1;36m-107.6803268235073\u001b[0m, \u001b[1;36m36.32851344361086\u001b[0m, \u001b[1;36m-107.53887725289354\u001b[0m, \u001b[1;36m36.49256139856453\u001b[0m\u001b[1m)\u001b[0m\n"
      ]
     },
     "metadata": {},
     "output_type": "display_data"
    },
    {
     "data": {
      "text/html": [
       "<pre style=\"white-space:pre;overflow-x:auto;line-height:normal;font-family:Menlo,'DejaVu Sans Mono',consolas,'Courier New',monospace\"><span style=\"font-weight: bold\">(</span><span style=\"color: #008080; text-decoration-color: #008080; font-weight: bold\">-107.74191040986972</span>, <span style=\"color: #008080; text-decoration-color: #008080; font-weight: bold\">36.27993781035292</span>, <span style=\"color: #008080; text-decoration-color: #008080; font-weight: bold\">-107.43505067701267</span>, <span style=\"color: #008080; text-decoration-color: #008080; font-weight: bold\">36.54219140994587</span><span style=\"font-weight: bold\">)</span>\n",
       "</pre>\n"
      ],
      "text/plain": [
       "\u001b[1m(\u001b[0m\u001b[1;36m-107.74191040986972\u001b[0m, \u001b[1;36m36.27993781035292\u001b[0m, \u001b[1;36m-107.43505067701267\u001b[0m, \u001b[1;36m36.54219140994587\u001b[0m\u001b[1m)\u001b[0m\n"
      ]
     },
     "metadata": {},
     "output_type": "display_data"
    },
    {
     "data": {
      "text/html": [
       "<pre style=\"white-space:pre;overflow-x:auto;line-height:normal;font-family:Menlo,'DejaVu Sans Mono',consolas,'Courier New',monospace\"><span style=\"font-weight: bold\">(</span><span style=\"color: #008080; text-decoration-color: #008080; font-weight: bold\">-107.5856023252285</span>, <span style=\"color: #008080; text-decoration-color: #008080; font-weight: bold\">36.4064353453735</span><span style=\"font-weight: bold\">)</span>\n",
       "</pre>\n"
      ],
      "text/plain": [
       "\u001b[1m(\u001b[0m\u001b[1;36m-107.5856023252285\u001b[0m, \u001b[1;36m36.4064353453735\u001b[0m\u001b[1m)\u001b[0m\n"
      ]
     },
     "metadata": {},
     "output_type": "display_data"
    },
    {
     "data": {
      "text/html": [
       "<pre style=\"white-space:pre;overflow-x:auto;line-height:normal;font-family:Menlo,'DejaVu Sans Mono',consolas,'Courier New',monospace\"><span style=\"font-weight: bold\">[</span><span style=\"color: #008080; text-decoration-color: #008080; font-weight: bold\">-107.60136606</span>   <span style=\"color: #008080; text-decoration-color: #008080; font-weight: bold\">36.39617767</span><span style=\"font-weight: bold\">]</span>\n",
       "</pre>\n"
      ],
      "text/plain": [
       "\u001b[1m[\u001b[0m\u001b[1;36m-107.60136606\u001b[0m   \u001b[1;36m36.39617767\u001b[0m\u001b[1m]\u001b[0m\n"
      ]
     },
     "metadata": {},
     "output_type": "display_data"
    },
    {
     "data": {
      "text/html": [
       "<pre style=\"white-space:pre;overflow-x:auto;line-height:normal;font-family:Menlo,'DejaVu Sans Mono',consolas,'Courier New',monospace\"><span style=\"font-weight: bold\">[</span><span style=\"color: #008080; text-decoration-color: #008080; font-weight: bold\">-107.57728379</span>   <span style=\"color: #008080; text-decoration-color: #008080; font-weight: bold\">36.41307757</span><span style=\"font-weight: bold\">]</span>\n",
       "</pre>\n"
      ],
      "text/plain": [
       "\u001b[1m[\u001b[0m\u001b[1;36m-107.57728379\u001b[0m   \u001b[1;36m36.41307757\u001b[0m\u001b[1m]\u001b[0m\n"
      ]
     },
     "metadata": {},
     "output_type": "display_data"
    },
    {
     "data": {
      "text/html": [
       "<pre style=\"white-space:pre;overflow-x:auto;line-height:normal;font-family:Menlo,'DejaVu Sans Mono',consolas,'Courier New',monospace\"><span style=\"font-weight: bold\">[[</span><span style=\"color: #008080; text-decoration-color: #008080; font-weight: bold\">-107.70481529</span>   <span style=\"color: #008080; text-decoration-color: #008080; font-weight: bold\">36.29657423</span> <span style=\"color: #008080; text-decoration-color: #008080; font-weight: bold\">-107.46638936</span>   <span style=\"color: #008080; text-decoration-color: #008080; font-weight: bold\">36.51629646</span><span style=\"font-weight: bold\">]</span>\n",
       " <span style=\"font-weight: bold\">[</span><span style=\"color: #008080; text-decoration-color: #008080; font-weight: bold\">-107.68032682</span>   <span style=\"color: #008080; text-decoration-color: #008080; font-weight: bold\">36.32851344</span> <span style=\"color: #008080; text-decoration-color: #008080; font-weight: bold\">-107.53887725</span>   <span style=\"color: #008080; text-decoration-color: #008080; font-weight: bold\">36.4925614</span> <span style=\"font-weight: bold\">]</span>\n",
       " <span style=\"font-weight: bold\">[</span><span style=\"color: #008080; text-decoration-color: #008080; font-weight: bold\">-107.74191041</span>   <span style=\"color: #008080; text-decoration-color: #008080; font-weight: bold\">36.27993781</span> <span style=\"color: #008080; text-decoration-color: #008080; font-weight: bold\">-107.43505068</span>   <span style=\"color: #008080; text-decoration-color: #008080; font-weight: bold\">36.54219141</span><span style=\"font-weight: bold\">]]</span>\n",
       "</pre>\n"
      ],
      "text/plain": [
       "\u001b[1m[\u001b[0m\u001b[1m[\u001b[0m\u001b[1;36m-107.70481529\u001b[0m   \u001b[1;36m36.29657423\u001b[0m \u001b[1;36m-107.46638936\u001b[0m   \u001b[1;36m36.51629646\u001b[0m\u001b[1m]\u001b[0m\n",
       " \u001b[1m[\u001b[0m\u001b[1;36m-107.68032682\u001b[0m   \u001b[1;36m36.32851344\u001b[0m \u001b[1;36m-107.53887725\u001b[0m   \u001b[1;36m36.4925614\u001b[0m \u001b[1m]\u001b[0m\n",
       " \u001b[1m[\u001b[0m\u001b[1;36m-107.74191041\u001b[0m   \u001b[1;36m36.27993781\u001b[0m \u001b[1;36m-107.43505068\u001b[0m   \u001b[1;36m36.54219141\u001b[0m\u001b[1m]\u001b[0m\u001b[1m]\u001b[0m\n"
      ]
     },
     "metadata": {},
     "output_type": "display_data"
    },
    {
     "data": {
      "text/plain": [
       "[-107.74191040986972,\n",
       " 36.27993781035292,\n",
       " -107.43505067701267,\n",
       " 36.54219140994587]"
      ]
     },
     "execution_count": 13,
     "metadata": {},
     "output_type": "execute_result"
    }
   ],
   "source": [
    "print(dem.extent)\n",
    "print(boundary.extent)\n",
    "print(flowlines.extent)\n",
    "print(dem.centroid)\n",
    "print(boundary.centroid)\n",
    "print(flowlines.centroid)\n",
    "\n",
    "extents = np.vstack([dem.extent, boundary.extent, flowlines.extent])\n",
    "print(extents)"
   ]
  },
  {
   "cell_type": "code",
   "execution_count": 20,
   "id": "488edd33-4212-41f7-881f-fcb4e154a46d",
   "metadata": {},
   "outputs": [
    {
     "data": {
      "text/plain": [
       "{'_validate': True,\n",
       " '_grid_str': None,\n",
       " '_grid_ref': None,\n",
       " '_data_validator': <plotly.validators._data.DataValidator at 0x7fd6efc31400>,\n",
       " '_data_objs': [],\n",
       " '_data': [],\n",
       " '_data_defaults': [],\n",
       " '_layout_validator': <plotly.validators._layout.LayoutValidator at 0x7fd6efc31160>,\n",
       " '_layout_obj': Layout({\n",
       "     'template': '...'\n",
       " }),\n",
       " '_layout': {'template': {'data': {'bar': [{'error_x': {'color': '#2a3f5f'},\n",
       "      'error_y': {'color': '#2a3f5f'},\n",
       "      'marker': {'line': {'color': '#E5ECF6', 'width': 0.5},\n",
       "       'pattern': {'fillmode': 'overlay', 'size': 10, 'solidity': 0.2}},\n",
       "      'type': 'bar'}],\n",
       "    'barpolar': [{'marker': {'line': {'color': '#E5ECF6', 'width': 0.5},\n",
       "       'pattern': {'fillmode': 'overlay', 'size': 10, 'solidity': 0.2}},\n",
       "      'type': 'barpolar'}],\n",
       "    'carpet': [{'aaxis': {'endlinecolor': '#2a3f5f',\n",
       "       'gridcolor': 'white',\n",
       "       'linecolor': 'white',\n",
       "       'minorgridcolor': 'white',\n",
       "       'startlinecolor': '#2a3f5f'},\n",
       "      'baxis': {'endlinecolor': '#2a3f5f',\n",
       "       'gridcolor': 'white',\n",
       "       'linecolor': 'white',\n",
       "       'minorgridcolor': 'white',\n",
       "       'startlinecolor': '#2a3f5f'},\n",
       "      'type': 'carpet'}],\n",
       "    'choropleth': [{'colorbar': {'outlinewidth': 0, 'ticks': ''},\n",
       "      'type': 'choropleth'}],\n",
       "    'contour': [{'colorbar': {'outlinewidth': 0, 'ticks': ''},\n",
       "      'colorscale': [[0.0, '#0d0887'],\n",
       "       [0.1111111111111111, '#46039f'],\n",
       "       [0.2222222222222222, '#7201a8'],\n",
       "       [0.3333333333333333, '#9c179e'],\n",
       "       [0.4444444444444444, '#bd3786'],\n",
       "       [0.5555555555555556, '#d8576b'],\n",
       "       [0.6666666666666666, '#ed7953'],\n",
       "       [0.7777777777777778, '#fb9f3a'],\n",
       "       [0.8888888888888888, '#fdca26'],\n",
       "       [1.0, '#f0f921']],\n",
       "      'type': 'contour'}],\n",
       "    'contourcarpet': [{'colorbar': {'outlinewidth': 0, 'ticks': ''},\n",
       "      'type': 'contourcarpet'}],\n",
       "    'heatmap': [{'colorbar': {'outlinewidth': 0, 'ticks': ''},\n",
       "      'colorscale': [[0.0, '#0d0887'],\n",
       "       [0.1111111111111111, '#46039f'],\n",
       "       [0.2222222222222222, '#7201a8'],\n",
       "       [0.3333333333333333, '#9c179e'],\n",
       "       [0.4444444444444444, '#bd3786'],\n",
       "       [0.5555555555555556, '#d8576b'],\n",
       "       [0.6666666666666666, '#ed7953'],\n",
       "       [0.7777777777777778, '#fb9f3a'],\n",
       "       [0.8888888888888888, '#fdca26'],\n",
       "       [1.0, '#f0f921']],\n",
       "      'type': 'heatmap'}],\n",
       "    'heatmapgl': [{'colorbar': {'outlinewidth': 0, 'ticks': ''},\n",
       "      'colorscale': [[0.0, '#0d0887'],\n",
       "       [0.1111111111111111, '#46039f'],\n",
       "       [0.2222222222222222, '#7201a8'],\n",
       "       [0.3333333333333333, '#9c179e'],\n",
       "       [0.4444444444444444, '#bd3786'],\n",
       "       [0.5555555555555556, '#d8576b'],\n",
       "       [0.6666666666666666, '#ed7953'],\n",
       "       [0.7777777777777778, '#fb9f3a'],\n",
       "       [0.8888888888888888, '#fdca26'],\n",
       "       [1.0, '#f0f921']],\n",
       "      'type': 'heatmapgl'}],\n",
       "    'histogram': [{'marker': {'pattern': {'fillmode': 'overlay',\n",
       "        'size': 10,\n",
       "        'solidity': 0.2}},\n",
       "      'type': 'histogram'}],\n",
       "    'histogram2d': [{'colorbar': {'outlinewidth': 0, 'ticks': ''},\n",
       "      'colorscale': [[0.0, '#0d0887'],\n",
       "       [0.1111111111111111, '#46039f'],\n",
       "       [0.2222222222222222, '#7201a8'],\n",
       "       [0.3333333333333333, '#9c179e'],\n",
       "       [0.4444444444444444, '#bd3786'],\n",
       "       [0.5555555555555556, '#d8576b'],\n",
       "       [0.6666666666666666, '#ed7953'],\n",
       "       [0.7777777777777778, '#fb9f3a'],\n",
       "       [0.8888888888888888, '#fdca26'],\n",
       "       [1.0, '#f0f921']],\n",
       "      'type': 'histogram2d'}],\n",
       "    'histogram2dcontour': [{'colorbar': {'outlinewidth': 0, 'ticks': ''},\n",
       "      'colorscale': [[0.0, '#0d0887'],\n",
       "       [0.1111111111111111, '#46039f'],\n",
       "       [0.2222222222222222, '#7201a8'],\n",
       "       [0.3333333333333333, '#9c179e'],\n",
       "       [0.4444444444444444, '#bd3786'],\n",
       "       [0.5555555555555556, '#d8576b'],\n",
       "       [0.6666666666666666, '#ed7953'],\n",
       "       [0.7777777777777778, '#fb9f3a'],\n",
       "       [0.8888888888888888, '#fdca26'],\n",
       "       [1.0, '#f0f921']],\n",
       "      'type': 'histogram2dcontour'}],\n",
       "    'mesh3d': [{'colorbar': {'outlinewidth': 0, 'ticks': ''},\n",
       "      'type': 'mesh3d'}],\n",
       "    'parcoords': [{'line': {'colorbar': {'outlinewidth': 0, 'ticks': ''}},\n",
       "      'type': 'parcoords'}],\n",
       "    'pie': [{'automargin': True, 'type': 'pie'}],\n",
       "    'scatter': [{'marker': {'colorbar': {'outlinewidth': 0, 'ticks': ''}},\n",
       "      'type': 'scatter'}],\n",
       "    'scatter3d': [{'line': {'colorbar': {'outlinewidth': 0, 'ticks': ''}},\n",
       "      'marker': {'colorbar': {'outlinewidth': 0, 'ticks': ''}},\n",
       "      'type': 'scatter3d'}],\n",
       "    'scattercarpet': [{'marker': {'colorbar': {'outlinewidth': 0,\n",
       "        'ticks': ''}},\n",
       "      'type': 'scattercarpet'}],\n",
       "    'scattergeo': [{'marker': {'colorbar': {'outlinewidth': 0, 'ticks': ''}},\n",
       "      'type': 'scattergeo'}],\n",
       "    'scattergl': [{'marker': {'colorbar': {'outlinewidth': 0, 'ticks': ''}},\n",
       "      'type': 'scattergl'}],\n",
       "    'scattermapbox': [{'marker': {'colorbar': {'outlinewidth': 0,\n",
       "        'ticks': ''}},\n",
       "      'type': 'scattermapbox'}],\n",
       "    'scatterpolar': [{'marker': {'colorbar': {'outlinewidth': 0, 'ticks': ''}},\n",
       "      'type': 'scatterpolar'}],\n",
       "    'scatterpolargl': [{'marker': {'colorbar': {'outlinewidth': 0,\n",
       "        'ticks': ''}},\n",
       "      'type': 'scatterpolargl'}],\n",
       "    'scatterternary': [{'marker': {'colorbar': {'outlinewidth': 0,\n",
       "        'ticks': ''}},\n",
       "      'type': 'scatterternary'}],\n",
       "    'surface': [{'colorbar': {'outlinewidth': 0, 'ticks': ''},\n",
       "      'colorscale': [[0.0, '#0d0887'],\n",
       "       [0.1111111111111111, '#46039f'],\n",
       "       [0.2222222222222222, '#7201a8'],\n",
       "       [0.3333333333333333, '#9c179e'],\n",
       "       [0.4444444444444444, '#bd3786'],\n",
       "       [0.5555555555555556, '#d8576b'],\n",
       "       [0.6666666666666666, '#ed7953'],\n",
       "       [0.7777777777777778, '#fb9f3a'],\n",
       "       [0.8888888888888888, '#fdca26'],\n",
       "       [1.0, '#f0f921']],\n",
       "      'type': 'surface'}],\n",
       "    'table': [{'cells': {'fill': {'color': '#EBF0F8'},\n",
       "       'line': {'color': 'white'}},\n",
       "      'header': {'fill': {'color': '#C8D4E3'}, 'line': {'color': 'white'}},\n",
       "      'type': 'table'}]},\n",
       "   'layout': {'annotationdefaults': {'arrowcolor': '#2a3f5f',\n",
       "     'arrowhead': 0,\n",
       "     'arrowwidth': 1},\n",
       "    'autotypenumbers': 'strict',\n",
       "    'coloraxis': {'colorbar': {'outlinewidth': 0, 'ticks': ''}},\n",
       "    'colorscale': {'diverging': [[0, '#8e0152'],\n",
       "      [0.1, '#c51b7d'],\n",
       "      [0.2, '#de77ae'],\n",
       "      [0.3, '#f1b6da'],\n",
       "      [0.4, '#fde0ef'],\n",
       "      [0.5, '#f7f7f7'],\n",
       "      [0.6, '#e6f5d0'],\n",
       "      [0.7, '#b8e186'],\n",
       "      [0.8, '#7fbc41'],\n",
       "      [0.9, '#4d9221'],\n",
       "      [1, '#276419']],\n",
       "     'sequential': [[0.0, '#0d0887'],\n",
       "      [0.1111111111111111, '#46039f'],\n",
       "      [0.2222222222222222, '#7201a8'],\n",
       "      [0.3333333333333333, '#9c179e'],\n",
       "      [0.4444444444444444, '#bd3786'],\n",
       "      [0.5555555555555556, '#d8576b'],\n",
       "      [0.6666666666666666, '#ed7953'],\n",
       "      [0.7777777777777778, '#fb9f3a'],\n",
       "      [0.8888888888888888, '#fdca26'],\n",
       "      [1.0, '#f0f921']],\n",
       "     'sequentialminus': [[0.0, '#0d0887'],\n",
       "      [0.1111111111111111, '#46039f'],\n",
       "      [0.2222222222222222, '#7201a8'],\n",
       "      [0.3333333333333333, '#9c179e'],\n",
       "      [0.4444444444444444, '#bd3786'],\n",
       "      [0.5555555555555556, '#d8576b'],\n",
       "      [0.6666666666666666, '#ed7953'],\n",
       "      [0.7777777777777778, '#fb9f3a'],\n",
       "      [0.8888888888888888, '#fdca26'],\n",
       "      [1.0, '#f0f921']]},\n",
       "    'colorway': ['#636efa',\n",
       "     '#EF553B',\n",
       "     '#00cc96',\n",
       "     '#ab63fa',\n",
       "     '#FFA15A',\n",
       "     '#19d3f3',\n",
       "     '#FF6692',\n",
       "     '#B6E880',\n",
       "     '#FF97FF',\n",
       "     '#FECB52'],\n",
       "    'font': {'color': '#2a3f5f'},\n",
       "    'geo': {'bgcolor': 'white',\n",
       "     'lakecolor': 'white',\n",
       "     'landcolor': '#E5ECF6',\n",
       "     'showlakes': True,\n",
       "     'showland': True,\n",
       "     'subunitcolor': 'white'},\n",
       "    'hoverlabel': {'align': 'left'},\n",
       "    'hovermode': 'closest',\n",
       "    'mapbox': {'style': 'light'},\n",
       "    'paper_bgcolor': 'white',\n",
       "    'plot_bgcolor': '#E5ECF6',\n",
       "    'polar': {'angularaxis': {'gridcolor': 'white',\n",
       "      'linecolor': 'white',\n",
       "      'ticks': ''},\n",
       "     'bgcolor': '#E5ECF6',\n",
       "     'radialaxis': {'gridcolor': 'white', 'linecolor': 'white', 'ticks': ''}},\n",
       "    'scene': {'xaxis': {'backgroundcolor': '#E5ECF6',\n",
       "      'gridcolor': 'white',\n",
       "      'gridwidth': 2,\n",
       "      'linecolor': 'white',\n",
       "      'showbackground': True,\n",
       "      'ticks': '',\n",
       "      'zerolinecolor': 'white'},\n",
       "     'yaxis': {'backgroundcolor': '#E5ECF6',\n",
       "      'gridcolor': 'white',\n",
       "      'gridwidth': 2,\n",
       "      'linecolor': 'white',\n",
       "      'showbackground': True,\n",
       "      'ticks': '',\n",
       "      'zerolinecolor': 'white'},\n",
       "     'zaxis': {'backgroundcolor': '#E5ECF6',\n",
       "      'gridcolor': 'white',\n",
       "      'gridwidth': 2,\n",
       "      'linecolor': 'white',\n",
       "      'showbackground': True,\n",
       "      'ticks': '',\n",
       "      'zerolinecolor': 'white'}},\n",
       "    'shapedefaults': {'line': {'color': '#2a3f5f'}},\n",
       "    'ternary': {'aaxis': {'gridcolor': 'white',\n",
       "      'linecolor': 'white',\n",
       "      'ticks': ''},\n",
       "     'baxis': {'gridcolor': 'white', 'linecolor': 'white', 'ticks': ''},\n",
       "     'bgcolor': '#E5ECF6',\n",
       "     'caxis': {'gridcolor': 'white', 'linecolor': 'white', 'ticks': ''}},\n",
       "    'title': {'x': 0.05},\n",
       "    'xaxis': {'automargin': True,\n",
       "     'gridcolor': 'white',\n",
       "     'linecolor': 'white',\n",
       "     'ticks': '',\n",
       "     'title': {'standoff': 15},\n",
       "     'zerolinecolor': 'white',\n",
       "     'zerolinewidth': 2},\n",
       "    'yaxis': {'automargin': True,\n",
       "     'gridcolor': 'white',\n",
       "     'linecolor': 'white',\n",
       "     'ticks': '',\n",
       "     'title': {'standoff': 15},\n",
       "     'zerolinecolor': 'white',\n",
       "     'zerolinewidth': 2}}}},\n",
       " '_layout_defaults': {},\n",
       " '_config': {'plotlyServerURL': 'https://plot.ly'},\n",
       " '_frames_validator': <plotly.validators._frames.FramesValidator at 0x7fd6efc31040>,\n",
       " '_frame_objs': [],\n",
       " '_in_batch_mode': False,\n",
       " '_batch_trace_edits': OrderedDict(),\n",
       " '_batch_layout_edits': OrderedDict(),\n",
       " '_animation_duration_validator': <plotly.animation.DurationValidator at 0x7fd6efc31190>,\n",
       " '_animation_easing_validator': <plotly.animation.EasingValidator at 0x7fd6efc311c0>}"
      ]
     },
     "execution_count": 20,
     "metadata": {},
     "output_type": "execute_result"
    }
   ],
   "source": [
    "import plotly.graph_objects as go\n",
    "fig = go.Figure()\n",
    "vars(fig)"
   ]
  },
  {
   "cell_type": "markdown",
   "id": "e5857f5c-2fc6-40eb-916c-c0427a8c18f4",
   "metadata": {},
   "source": [
    "## 1.4 GIS pre-processing operations"
   ]
  },
  {
   "cell_type": "markdown",
   "id": "1ded21ff-9812-4d73-81b7-549769f78561",
   "metadata": {},
   "source": [
    "### 1.4.1 Clipping rasters with shapefiles"
   ]
  },
  {
   "cell_type": "markdown",
   "id": "4d7e1763-0a72-44a4-adb1-b43a54a20afb",
   "metadata": {},
   "source": [
    "### 1.4.2 Reprojecting"
   ]
  },
  {
   "cell_type": "markdown",
   "id": "5813421f-0af2-4d90-a418-0ca1bd17b9dc",
   "metadata": {},
   "source": [
    "### 1.4.3 Changing/adding new No Data values to Rasters"
   ]
  },
  {
   "cell_type": "markdown",
   "id": "c424c9bb-70d6-49ff-9405-d76e77a5249a",
   "metadata": {},
   "source": [
    "## 1.5 Using Python to create GIS objects"
   ]
  },
  {
   "cell_type": "markdown",
   "id": "27784f15-4dfe-4eea-9052-295c4e3006b3",
   "metadata": {},
   "source": [
    "### 1.5.1 Creating Rasters from NumPy matrices"
   ]
  },
  {
   "cell_type": "markdown",
   "id": "4d394b9d-c7fe-486e-868e-e9c7d721688b",
   "metadata": {},
   "source": [
    "### 1.5.2 Creating Shapefiles from Shapely objects"
   ]
  },
  {
   "cell_type": "markdown",
   "id": "9105cebd-6cff-4b83-8090-8f7f1d9a8c02",
   "metadata": {},
   "source": [
    "## 1.6 TINerator GIS toolkit"
   ]
  },
  {
   "cell_type": "markdown",
   "id": "60ce97d2-7271-4377-8204-f04fd7ca0a74",
   "metadata": {},
   "source": [
    "### 1.6.1 Rasters: pit-filling"
   ]
  },
  {
   "cell_type": "markdown",
   "id": "4ef96e82-00d4-4f34-adf6-2ffc22fa8fbb",
   "metadata": {},
   "source": [
    "### 1.6.2 Rasters: extracting flowlines via watershed delineation"
   ]
  },
  {
   "cell_type": "markdown",
   "id": "7b738bd6-0ee2-4c17-b2a3-41213637499c",
   "metadata": {},
   "source": [
    "## 1.7 Saving TINerator objects to GIS formats"
   ]
  },
  {
   "cell_type": "code",
   "execution_count": null,
   "id": "623a6b95-93cf-4772-97c8-48254cc80f83",
   "metadata": {},
   "outputs": [],
   "source": []
  }
 ],
 "metadata": {
  "kernelspec": {
   "display_name": "Python 3 (ipykernel)",
   "language": "python",
   "name": "python3"
  },
  "language_info": {
   "codemirror_mode": {
    "name": "ipython",
    "version": 3
   },
   "file_extension": ".py",
   "mimetype": "text/x-python",
   "name": "python",
   "nbconvert_exporter": "python",
   "pygments_lexer": "ipython3",
   "version": "3.8.10"
  }
 },
 "nbformat": 4,
 "nbformat_minor": 5
}
